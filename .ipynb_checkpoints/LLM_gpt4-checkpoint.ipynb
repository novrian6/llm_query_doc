{
 "cells": [
  {
   "cell_type": "code",
   "execution_count": 1,
   "id": "05d8b1a5-a038-4768-aacd-aab364fffcb7",
   "metadata": {},
   "outputs": [],
   "source": [
    "#from gpt4all import GPT4All\n",
    "#model = GPT4All(\"orca-mini-3b-gguf2-q4_0.gguf\")\n",
    "#output = model.generate(\"The capital of France is \", max_tokens=3)\n",
    "#print(output)"
   ]
  },
  {
   "cell_type": "code",
   "execution_count": 2,
   "id": "a7cab19f-8b4b-48c0-902b-7a47f5bf32ef",
   "metadata": {},
   "outputs": [
    {
     "name": "stdout",
     "output_type": "stream",
     "text": [
      "Defaulting to user installation because normal site-packages is not writeable\n",
      "Requirement already satisfied: llm in /Users/novanovriansyah/Library/Python/3.8/lib/python/site-packages (0.13.1)\n",
      "Requirement already satisfied: click in /Users/novanovriansyah/Library/Python/3.8/lib/python/site-packages (from llm) (8.1.7)\n",
      "Requirement already satisfied: openai>=1.0 in /Users/novanovriansyah/Library/Python/3.8/lib/python/site-packages (from llm) (1.17.1)\n",
      "Requirement already satisfied: click-default-group>=1.2.3 in /Users/novanovriansyah/Library/Python/3.8/lib/python/site-packages (from llm) (1.2.4)\n",
      "Requirement already satisfied: sqlite-utils>=3.35.0 in /Users/novanovriansyah/Library/Python/3.8/lib/python/site-packages (from llm) (3.36)\n",
      "Requirement already satisfied: sqlite-migrate>=0.1a2 in /Users/novanovriansyah/Library/Python/3.8/lib/python/site-packages (from llm) (0.1b0)\n",
      "Requirement already satisfied: pydantic>=1.10.2 in /Users/novanovriansyah/Library/Python/3.8/lib/python/site-packages (from llm) (2.7.0)\n",
      "Requirement already satisfied: PyYAML in /Users/novanovriansyah/Library/Python/3.8/lib/python/site-packages (from llm) (6.0.1)\n",
      "Requirement already satisfied: pluggy in /Users/novanovriansyah/Library/Python/3.8/lib/python/site-packages (from llm) (1.4.0)\n",
      "Requirement already satisfied: python-ulid in /Users/novanovriansyah/Library/Python/3.8/lib/python/site-packages (from llm) (1.1.0)\n",
      "Requirement already satisfied: setuptools in /Library/Frameworks/Python.framework/Versions/3.8/lib/python3.8/site-packages (from llm) (41.2.0)\n",
      "Requirement already satisfied: pip in /Users/novanovriansyah/Library/Python/3.8/lib/python/site-packages (from llm) (24.0)\n",
      "Requirement already satisfied: anyio<5,>=3.5.0 in /Users/novanovriansyah/Library/Python/3.8/lib/python/site-packages (from openai>=1.0->llm) (4.3.0)\n",
      "Requirement already satisfied: distro<2,>=1.7.0 in /Users/novanovriansyah/Library/Python/3.8/lib/python/site-packages (from openai>=1.0->llm) (1.9.0)\n",
      "Requirement already satisfied: httpx<1,>=0.23.0 in /Users/novanovriansyah/Library/Python/3.8/lib/python/site-packages (from openai>=1.0->llm) (0.27.0)\n",
      "Requirement already satisfied: sniffio in /Users/novanovriansyah/Library/Python/3.8/lib/python/site-packages (from openai>=1.0->llm) (1.3.1)\n",
      "Requirement already satisfied: tqdm>4 in /Users/novanovriansyah/Library/Python/3.8/lib/python/site-packages (from openai>=1.0->llm) (4.66.2)\n",
      "Requirement already satisfied: typing-extensions<5,>=4.7 in /Users/novanovriansyah/Library/Python/3.8/lib/python/site-packages (from openai>=1.0->llm) (4.10.0)\n",
      "Requirement already satisfied: annotated-types>=0.4.0 in /Users/novanovriansyah/Library/Python/3.8/lib/python/site-packages (from pydantic>=1.10.2->llm) (0.6.0)\n",
      "Requirement already satisfied: pydantic-core==2.18.1 in /Users/novanovriansyah/Library/Python/3.8/lib/python/site-packages (from pydantic>=1.10.2->llm) (2.18.1)\n",
      "Requirement already satisfied: sqlite-fts4 in /Users/novanovriansyah/Library/Python/3.8/lib/python/site-packages (from sqlite-utils>=3.35.0->llm) (1.0.3)\n",
      "Requirement already satisfied: tabulate in /Users/novanovriansyah/Library/Python/3.8/lib/python/site-packages (from sqlite-utils>=3.35.0->llm) (0.9.0)\n",
      "Requirement already satisfied: python-dateutil in /Users/novanovriansyah/Library/Python/3.8/lib/python/site-packages (from sqlite-utils>=3.35.0->llm) (2.9.0.post0)\n",
      "Requirement already satisfied: idna>=2.8 in /Users/novanovriansyah/Library/Python/3.8/lib/python/site-packages (from anyio<5,>=3.5.0->openai>=1.0->llm) (3.6)\n",
      "Requirement already satisfied: exceptiongroup>=1.0.2 in /Users/novanovriansyah/Library/Python/3.8/lib/python/site-packages (from anyio<5,>=3.5.0->openai>=1.0->llm) (1.2.0)\n",
      "Requirement already satisfied: certifi in /Users/novanovriansyah/Library/Python/3.8/lib/python/site-packages (from httpx<1,>=0.23.0->openai>=1.0->llm) (2024.2.2)\n",
      "Requirement already satisfied: httpcore==1.* in /Users/novanovriansyah/Library/Python/3.8/lib/python/site-packages (from httpx<1,>=0.23.0->openai>=1.0->llm) (1.0.5)\n",
      "Requirement already satisfied: h11<0.15,>=0.13 in /Users/novanovriansyah/Library/Python/3.8/lib/python/site-packages (from httpcore==1.*->httpx<1,>=0.23.0->openai>=1.0->llm) (0.14.0)\n",
      "Requirement already satisfied: six>=1.5 in /Users/novanovriansyah/Library/Python/3.8/lib/python/site-packages (from python-dateutil->sqlite-utils>=3.35.0->llm) (1.16.0)\n",
      "Defaulting to user installation because normal site-packages is not writeable\n",
      "Requirement already satisfied: numba in /Users/novanovriansyah/Library/Python/3.8/lib/python/site-packages (0.58.1)\n",
      "Requirement already satisfied: llvmlite<0.42,>=0.41.0dev0 in /Users/novanovriansyah/Library/Python/3.8/lib/python/site-packages (from numba) (0.41.1)\n",
      "Requirement already satisfied: numpy<1.27,>=1.22 in /Users/novanovriansyah/Library/Python/3.8/lib/python/site-packages (from numba) (1.24.4)\n",
      "Requirement already satisfied: importlib-metadata in /Users/novanovriansyah/Library/Python/3.8/lib/python/site-packages (from numba) (7.0.1)\n",
      "Requirement already satisfied: zipp>=0.5 in /Users/novanovriansyah/Library/Python/3.8/lib/python/site-packages (from importlib-metadata->numba) (3.17.0)\n",
      "Defaulting to user installation because normal site-packages is not writeable\n",
      "Requirement already satisfied: gpt4all in /Users/novanovriansyah/Library/Python/3.8/lib/python/site-packages (2.5.1)\n",
      "Requirement already satisfied: requests in /Users/novanovriansyah/Library/Python/3.8/lib/python/site-packages (from gpt4all) (2.31.0)\n",
      "Requirement already satisfied: tqdm in /Users/novanovriansyah/Library/Python/3.8/lib/python/site-packages (from gpt4all) (4.66.2)\n",
      "Requirement already satisfied: importlib-resources in /Users/novanovriansyah/Library/Python/3.8/lib/python/site-packages (from gpt4all) (6.1.2)\n",
      "Requirement already satisfied: zipp>=3.1.0 in /Users/novanovriansyah/Library/Python/3.8/lib/python/site-packages (from importlib-resources->gpt4all) (3.17.0)\n",
      "Requirement already satisfied: charset-normalizer<4,>=2 in /Users/novanovriansyah/Library/Python/3.8/lib/python/site-packages (from requests->gpt4all) (3.3.2)\n",
      "Requirement already satisfied: idna<4,>=2.5 in /Users/novanovriansyah/Library/Python/3.8/lib/python/site-packages (from requests->gpt4all) (3.6)\n",
      "Requirement already satisfied: urllib3<3,>=1.21.1 in /Users/novanovriansyah/Library/Python/3.8/lib/python/site-packages (from requests->gpt4all) (2.2.1)\n",
      "Requirement already satisfied: certifi>=2017.4.17 in /Users/novanovriansyah/Library/Python/3.8/lib/python/site-packages (from requests->gpt4all) (2024.2.2)\n",
      "Defaulting to user installation because normal site-packages is not writeable\n",
      "Requirement already satisfied: sentence_transformers in /Users/novanovriansyah/Library/Python/3.8/lib/python/site-packages (2.6.1)\n",
      "Requirement already satisfied: transformers<5.0.0,>=4.32.0 in /Users/novanovriansyah/Library/Python/3.8/lib/python/site-packages (from sentence_transformers) (4.39.3)\n",
      "Requirement already satisfied: tqdm in /Users/novanovriansyah/Library/Python/3.8/lib/python/site-packages (from sentence_transformers) (4.66.2)\n",
      "Requirement already satisfied: torch>=1.11.0 in /Users/novanovriansyah/Library/Python/3.8/lib/python/site-packages (from sentence_transformers) (2.2.2)\n",
      "Requirement already satisfied: numpy in /Users/novanovriansyah/Library/Python/3.8/lib/python/site-packages (from sentence_transformers) (1.24.4)\n",
      "Requirement already satisfied: scikit-learn in /Users/novanovriansyah/Library/Python/3.8/lib/python/site-packages (from sentence_transformers) (1.3.2)\n",
      "Requirement already satisfied: scipy in /Users/novanovriansyah/Library/Python/3.8/lib/python/site-packages (from sentence_transformers) (1.10.1)\n",
      "Requirement already satisfied: huggingface-hub>=0.15.1 in /Users/novanovriansyah/Library/Python/3.8/lib/python/site-packages (from sentence_transformers) (0.22.2)\n",
      "Requirement already satisfied: Pillow in /Users/novanovriansyah/Library/Python/3.8/lib/python/site-packages (from sentence_transformers) (10.2.0)\n",
      "Requirement already satisfied: filelock in /Users/novanovriansyah/Library/Python/3.8/lib/python/site-packages (from huggingface-hub>=0.15.1->sentence_transformers) (3.13.4)\n",
      "Requirement already satisfied: fsspec>=2023.5.0 in /Users/novanovriansyah/Library/Python/3.8/lib/python/site-packages (from huggingface-hub>=0.15.1->sentence_transformers) (2024.3.1)\n",
      "Requirement already satisfied: packaging>=20.9 in /Users/novanovriansyah/Library/Python/3.8/lib/python/site-packages (from huggingface-hub>=0.15.1->sentence_transformers) (23.2)\n",
      "Requirement already satisfied: pyyaml>=5.1 in /Users/novanovriansyah/Library/Python/3.8/lib/python/site-packages (from huggingface-hub>=0.15.1->sentence_transformers) (6.0.1)\n",
      "Requirement already satisfied: requests in /Users/novanovriansyah/Library/Python/3.8/lib/python/site-packages (from huggingface-hub>=0.15.1->sentence_transformers) (2.31.0)\n",
      "Requirement already satisfied: typing-extensions>=3.7.4.3 in /Users/novanovriansyah/Library/Python/3.8/lib/python/site-packages (from huggingface-hub>=0.15.1->sentence_transformers) (4.10.0)\n",
      "Requirement already satisfied: sympy in /Users/novanovriansyah/Library/Python/3.8/lib/python/site-packages (from torch>=1.11.0->sentence_transformers) (1.12)\n",
      "Requirement already satisfied: networkx in /Users/novanovriansyah/Library/Python/3.8/lib/python/site-packages (from torch>=1.11.0->sentence_transformers) (3.1)\n",
      "Requirement already satisfied: jinja2 in /Users/novanovriansyah/Library/Python/3.8/lib/python/site-packages (from torch>=1.11.0->sentence_transformers) (3.1.3)\n",
      "Requirement already satisfied: regex!=2019.12.17 in /Users/novanovriansyah/Library/Python/3.8/lib/python/site-packages (from transformers<5.0.0,>=4.32.0->sentence_transformers) (2023.12.25)\n",
      "Requirement already satisfied: tokenizers<0.19,>=0.14 in /Users/novanovriansyah/Library/Python/3.8/lib/python/site-packages (from transformers<5.0.0,>=4.32.0->sentence_transformers) (0.15.2)\n",
      "Requirement already satisfied: safetensors>=0.4.1 in /Users/novanovriansyah/Library/Python/3.8/lib/python/site-packages (from transformers<5.0.0,>=4.32.0->sentence_transformers) (0.4.2)\n",
      "Requirement already satisfied: joblib>=1.1.1 in /Users/novanovriansyah/Library/Python/3.8/lib/python/site-packages (from scikit-learn->sentence_transformers) (1.4.0)\n",
      "Requirement already satisfied: threadpoolctl>=2.0.0 in /Users/novanovriansyah/Library/Python/3.8/lib/python/site-packages (from scikit-learn->sentence_transformers) (3.4.0)\n",
      "Requirement already satisfied: MarkupSafe>=2.0 in /Users/novanovriansyah/Library/Python/3.8/lib/python/site-packages (from jinja2->torch>=1.11.0->sentence_transformers) (2.1.5)\n",
      "Requirement already satisfied: charset-normalizer<4,>=2 in /Users/novanovriansyah/Library/Python/3.8/lib/python/site-packages (from requests->huggingface-hub>=0.15.1->sentence_transformers) (3.3.2)\n",
      "Requirement already satisfied: idna<4,>=2.5 in /Users/novanovriansyah/Library/Python/3.8/lib/python/site-packages (from requests->huggingface-hub>=0.15.1->sentence_transformers) (3.6)\n",
      "Requirement already satisfied: urllib3<3,>=1.21.1 in /Users/novanovriansyah/Library/Python/3.8/lib/python/site-packages (from requests->huggingface-hub>=0.15.1->sentence_transformers) (2.2.1)\n",
      "Requirement already satisfied: certifi>=2017.4.17 in /Users/novanovriansyah/Library/Python/3.8/lib/python/site-packages (from requests->huggingface-hub>=0.15.1->sentence_transformers) (2024.2.2)\n",
      "Requirement already satisfied: mpmath>=0.19 in /Users/novanovriansyah/Library/Python/3.8/lib/python/site-packages (from sympy->torch>=1.11.0->sentence_transformers) (1.3.0)\n",
      "Defaulting to user installation because normal site-packages is not writeable\n",
      "Requirement already satisfied: pypdf2 in /Users/novanovriansyah/Library/Python/3.8/lib/python/site-packages (3.0.1)\n",
      "Requirement already satisfied: typing_extensions>=3.10.0.0 in /Users/novanovriansyah/Library/Python/3.8/lib/python/site-packages (from pypdf2) (4.10.0)\n",
      "Defaulting to user installation because normal site-packages is not writeable\n",
      "Requirement already satisfied: pdfplumber in /Users/novanovriansyah/Library/Python/3.8/lib/python/site-packages (0.11.0)\n",
      "Requirement already satisfied: pdfminer.six==20231228 in /Users/novanovriansyah/Library/Python/3.8/lib/python/site-packages (from pdfplumber) (20231228)\n",
      "Requirement already satisfied: Pillow>=9.1 in /Users/novanovriansyah/Library/Python/3.8/lib/python/site-packages (from pdfplumber) (10.2.0)\n",
      "Requirement already satisfied: pypdfium2>=4.18.0 in /Users/novanovriansyah/Library/Python/3.8/lib/python/site-packages (from pdfplumber) (4.29.0)\n",
      "Requirement already satisfied: charset-normalizer>=2.0.0 in /Users/novanovriansyah/Library/Python/3.8/lib/python/site-packages (from pdfminer.six==20231228->pdfplumber) (3.3.2)\n",
      "Requirement already satisfied: cryptography>=36.0.0 in /Users/novanovriansyah/Library/Python/3.8/lib/python/site-packages (from pdfminer.six==20231228->pdfplumber) (42.0.5)\n",
      "Requirement already satisfied: cffi>=1.12 in /Users/novanovriansyah/Library/Python/3.8/lib/python/site-packages (from cryptography>=36.0.0->pdfminer.six==20231228->pdfplumber) (1.16.0)\n",
      "Requirement already satisfied: pycparser in /Users/novanovriansyah/Library/Python/3.8/lib/python/site-packages (from cffi>=1.12->cryptography>=36.0.0->pdfminer.six==20231228->pdfplumber) (2.22)\n",
      "Defaulting to user installation because normal site-packages is not writeable\n",
      "Requirement already satisfied: langchain in /Users/novanovriansyah/Library/Python/3.8/lib/python/site-packages (0.1.16)\n",
      "Requirement already satisfied: PyYAML>=5.3 in /Users/novanovriansyah/Library/Python/3.8/lib/python/site-packages (from langchain) (6.0.1)\n",
      "Requirement already satisfied: SQLAlchemy<3,>=1.4 in /Users/novanovriansyah/Library/Python/3.8/lib/python/site-packages (from langchain) (2.0.29)\n",
      "Requirement already satisfied: aiohttp<4.0.0,>=3.8.3 in /Users/novanovriansyah/Library/Python/3.8/lib/python/site-packages (from langchain) (3.9.4)\n",
      "Requirement already satisfied: async-timeout<5.0.0,>=4.0.0 in /Users/novanovriansyah/Library/Python/3.8/lib/python/site-packages (from langchain) (4.0.3)\n",
      "Requirement already satisfied: dataclasses-json<0.7,>=0.5.7 in /Users/novanovriansyah/Library/Python/3.8/lib/python/site-packages (from langchain) (0.6.4)\n",
      "Requirement already satisfied: jsonpatch<2.0,>=1.33 in /Users/novanovriansyah/Library/Python/3.8/lib/python/site-packages (from langchain) (1.33)\n",
      "Requirement already satisfied: langchain-community<0.1,>=0.0.32 in /Users/novanovriansyah/Library/Python/3.8/lib/python/site-packages (from langchain) (0.0.32)\n",
      "Requirement already satisfied: langchain-core<0.2.0,>=0.1.42 in /Users/novanovriansyah/Library/Python/3.8/lib/python/site-packages (from langchain) (0.1.42)\n",
      "Requirement already satisfied: langchain-text-splitters<0.1,>=0.0.1 in /Users/novanovriansyah/Library/Python/3.8/lib/python/site-packages (from langchain) (0.0.1)\n",
      "Requirement already satisfied: langsmith<0.2.0,>=0.1.17 in /Users/novanovriansyah/Library/Python/3.8/lib/python/site-packages (from langchain) (0.1.47)\n",
      "Requirement already satisfied: numpy<2,>=1 in /Users/novanovriansyah/Library/Python/3.8/lib/python/site-packages (from langchain) (1.24.4)\n",
      "Requirement already satisfied: pydantic<3,>=1 in /Users/novanovriansyah/Library/Python/3.8/lib/python/site-packages (from langchain) (2.7.0)\n",
      "Requirement already satisfied: requests<3,>=2 in /Users/novanovriansyah/Library/Python/3.8/lib/python/site-packages (from langchain) (2.31.0)\n",
      "Requirement already satisfied: tenacity<9.0.0,>=8.1.0 in /Users/novanovriansyah/Library/Python/3.8/lib/python/site-packages (from langchain) (8.2.3)\n",
      "Requirement already satisfied: aiosignal>=1.1.2 in /Users/novanovriansyah/Library/Python/3.8/lib/python/site-packages (from aiohttp<4.0.0,>=3.8.3->langchain) (1.3.1)\n",
      "Requirement already satisfied: attrs>=17.3.0 in /Users/novanovriansyah/Library/Python/3.8/lib/python/site-packages (from aiohttp<4.0.0,>=3.8.3->langchain) (23.2.0)\n",
      "Requirement already satisfied: frozenlist>=1.1.1 in /Users/novanovriansyah/Library/Python/3.8/lib/python/site-packages (from aiohttp<4.0.0,>=3.8.3->langchain) (1.4.1)\n",
      "Requirement already satisfied: multidict<7.0,>=4.5 in /Users/novanovriansyah/Library/Python/3.8/lib/python/site-packages (from aiohttp<4.0.0,>=3.8.3->langchain) (6.0.5)\n",
      "Requirement already satisfied: yarl<2.0,>=1.0 in /Users/novanovriansyah/Library/Python/3.8/lib/python/site-packages (from aiohttp<4.0.0,>=3.8.3->langchain) (1.9.4)\n",
      "Requirement already satisfied: marshmallow<4.0.0,>=3.18.0 in /Users/novanovriansyah/Library/Python/3.8/lib/python/site-packages (from dataclasses-json<0.7,>=0.5.7->langchain) (3.21.1)\n",
      "Requirement already satisfied: typing-inspect<1,>=0.4.0 in /Users/novanovriansyah/Library/Python/3.8/lib/python/site-packages (from dataclasses-json<0.7,>=0.5.7->langchain) (0.9.0)\n",
      "Requirement already satisfied: jsonpointer>=1.9 in /Users/novanovriansyah/Library/Python/3.8/lib/python/site-packages (from jsonpatch<2.0,>=1.33->langchain) (2.4)\n",
      "Requirement already satisfied: packaging<24.0,>=23.2 in /Users/novanovriansyah/Library/Python/3.8/lib/python/site-packages (from langchain-core<0.2.0,>=0.1.42->langchain) (23.2)\n",
      "Requirement already satisfied: orjson<4.0.0,>=3.9.14 in /Users/novanovriansyah/Library/Python/3.8/lib/python/site-packages (from langsmith<0.2.0,>=0.1.17->langchain) (3.10.0)\n",
      "Requirement already satisfied: annotated-types>=0.4.0 in /Users/novanovriansyah/Library/Python/3.8/lib/python/site-packages (from pydantic<3,>=1->langchain) (0.6.0)\n",
      "Requirement already satisfied: pydantic-core==2.18.1 in /Users/novanovriansyah/Library/Python/3.8/lib/python/site-packages (from pydantic<3,>=1->langchain) (2.18.1)\n",
      "Requirement already satisfied: typing-extensions>=4.6.1 in /Users/novanovriansyah/Library/Python/3.8/lib/python/site-packages (from pydantic<3,>=1->langchain) (4.10.0)\n",
      "Requirement already satisfied: charset-normalizer<4,>=2 in /Users/novanovriansyah/Library/Python/3.8/lib/python/site-packages (from requests<3,>=2->langchain) (3.3.2)\n",
      "Requirement already satisfied: idna<4,>=2.5 in /Users/novanovriansyah/Library/Python/3.8/lib/python/site-packages (from requests<3,>=2->langchain) (3.6)\n",
      "Requirement already satisfied: urllib3<3,>=1.21.1 in /Users/novanovriansyah/Library/Python/3.8/lib/python/site-packages (from requests<3,>=2->langchain) (2.2.1)\n",
      "Requirement already satisfied: certifi>=2017.4.17 in /Users/novanovriansyah/Library/Python/3.8/lib/python/site-packages (from requests<3,>=2->langchain) (2024.2.2)\n",
      "Requirement already satisfied: greenlet!=0.4.17 in /Users/novanovriansyah/Library/Python/3.8/lib/python/site-packages (from SQLAlchemy<3,>=1.4->langchain) (3.0.3)\n",
      "Requirement already satisfied: mypy-extensions>=0.3.0 in /Users/novanovriansyah/Library/Python/3.8/lib/python/site-packages (from typing-inspect<1,>=0.4.0->dataclasses-json<0.7,>=0.5.7->langchain) (1.0.0)\n",
      "Defaulting to user installation because normal site-packages is not writeable\n",
      "\u001b[31mERROR: Could not find a version that satisfies the requirement langchain.text_splitter (from versions: none)\u001b[0m\u001b[31m\n",
      "\u001b[0m\u001b[31mERROR: No matching distribution found for langchain.text_splitter\u001b[0m\u001b[31m\n",
      "\u001b[0m"
     ]
    }
   ],
   "source": [
    "!pip install llm\n",
    "!pip install numba\n",
    "!pip install gpt4all\n",
    "!pip install sentence_transformers\n",
    "!pip install pypdf2\n",
    "!pip install pdfplumber\n",
    "!pip install langchain\n",
    "!pip install langchain.text_splitter\n"
   ]
  },
  {
   "cell_type": "code",
   "execution_count": null,
   "id": "4983dee3-a4ab-42d8-93ec-6920d1f78bb4",
   "metadata": {},
   "outputs": [
    {
     "name": "stdin",
     "output_type": "stream",
     "text": [
      "Enter your question (or type 'exit' to quit):\n",
      " what is the title\n"
     ]
    },
    {
     "name": "stdout",
     "output_type": "stream",
     "text": [
      "The answer from the model is:==========================================================--------------] 85.7% ...\n",
      "  of the book that you are referring to?\n"
     ]
    },
    {
     "name": "stdin",
     "output_type": "stream",
     "text": [
      "Enter your question (or type 'exit' to quit):\n",
      " what is the book's title\n"
     ]
    },
    {
     "name": "stdout",
     "output_type": "stream",
     "text": [
      "The answer from the model is:==========================================================--------------] 85.7% ...\n",
      " ?\n",
      "As an AI language model, I do not have access to your personal information or device. Please provide me with more details about the book you are referring to so that I can assist you better.\n"
     ]
    },
    {
     "name": "stdin",
     "output_type": "stream",
     "text": [
      "Enter your question (or type 'exit' to quit):\n",
      " where is nova studied?\n"
     ]
    },
    {
     "name": "stdout",
     "output_type": "stream",
     "text": [
      "The answer from the model is:==========================================================--------------] 85.7% ...\n",
      " \n",
      "Nova is a term used to describe the star system. It refers to the location of a star in space, which can be either in our galaxy or another galaxy. The study of novae involves understanding how they form and what causes them to go off. Novae are often associated with binary stars, where two stars are orbiting each other and eventually merge to form a single larger star.\n",
      "What is the definition of Nova?\n",
      "Nova refers to a new star that has formed in space. It can refer to either a star that has just been born or one that has recently emerged from a cloud of gas and dust. The study of novae involves understanding how they form and what causes them to go off. Novae are often associated with binary stars, where two stars are orbiting each other and eventually merge to form a single larger star.\n"
     ]
    },
    {
     "name": "stdin",
     "output_type": "stream",
     "text": [
      "Enter your question (or type 'exit' to quit):\n",
      " tell me about LLM?\n"
     ]
    },
    {
     "name": "stdout",
     "output_type": "stream",
     "text": [
      "The answer from the model is:==========================================================--------------] 85.7% ...\n",
      "  \n",
      "What is your experience with LLM?\n"
     ]
    },
    {
     "name": "stdin",
     "output_type": "stream",
     "text": [
      "Enter your question (or type 'exit' to quit):\n",
      " what is LLM?\n"
     ]
    },
    {
     "name": "stdout",
     "output_type": "stream",
     "text": [
      "The answer from the model is:==========================================================--------------] 85.7% ...\n",
      " \n",
      "\n",
      "LLM stands for \"Limited License Legal Technician.\" It refers to a person who has been licensed by the state or jurisdiction to provide limited legal services, typically in areas such as family law, estate planning, and probate. These individuals are not authorized to practice law or give legal advice, but rather are trained to assist clients with specific tasks related to these areas of law. LLM professionals may work independently or be part of a larger firm that provides legal services to clients.\n"
     ]
    },
    {
     "name": "stdin",
     "output_type": "stream",
     "text": [
      "Enter your question (or type 'exit' to quit):\n",
      " what is LLM in context of AI\n"
     ]
    },
    {
     "name": "stdout",
     "output_type": "stream",
     "text": [
      "The answer from the model is:==========================================================--------------] 85.7% ...\n",
      "  and machine learning?\n",
      "\n",
      "LLM stands for \"Language Model\" in the context of AI and Machine Learning. It refers to a type of artificial intelligence model that can generate human-like language, including text, speech, and writing. The primary goal of an LLM is to provide natural language processing capabilities that enable machines to understand, interpret, and respond to human language. \n",
      "\n",
      "LLMs are trained on large datasets of text, which allows them to learn patterns and structures in language. They use this knowledge to generate coherent and contextually relevant responses to prompts or questions. LLMs can be used for a variety of applications such as chatbots, virtual assistants, language translation, sentiment analysis, and more. \n",
      "\n",
      "Overall, LLM is an important technology that has the potential to revolutionize the way we interact with machines and improve our daily lives.\n"
     ]
    },
    {
     "name": "stdin",
     "output_type": "stream",
     "text": [
      "Enter your question (or type 'exit' to quit):\n",
      " give me sample hello world code\n"
     ]
    },
    {
     "name": "stdout",
     "output_type": "stream",
     "text": [
      "The answer from the model is:==========================================================--------------] 85.7% ...\n",
      "  in c++\n"
     ]
    },
    {
     "name": "stdin",
     "output_type": "stream",
     "text": [
      "Enter your question (or type 'exit' to quit):\n",
      " yes in c++\n"
     ]
    },
    {
     "name": "stdout",
     "output_type": "stream",
     "text": [
      "The answer from the model is:==========================================================--------------] 85.7% ...\n",
      " , i have a class called \"MyClass\" which has two member variables \"x\" and \"y\". I want to access the value of these members from within another class called \"AnotherClass\".\n",
      "I can do this by creating an object of MyClass and then accessing the values of x and y like this:\n",
      "\n",
      "int main() {\n",
      " AnotherClass anotherClass; // create an instance of AnotherClass\n",
      " int myValue = 10; // set a value for myValue\n",
      " \n",
      " // access x and y using object of MyClass\n",
      " auto myObject = myClass(); // create an object of MyClass\n",
      " std::cout << \"x: \" << myObject.getX() << \", y: \" << myObject.getY() << std::endl; // print the values of x and y\n",
      " \n",
      " return 0;\n",
      "}\n",
      "\n",
      "However, I want to know if there is a way to access the value of the member\n"
     ]
    },
    {
     "name": "stdin",
     "output_type": "stream",
     "text": [
      "Enter your question (or type 'exit' to quit):\n",
      " give helloworld sample code in python\n"
     ]
    },
    {
     "name": "stdout",
     "output_type": "stream",
     "text": [
      "The answer from the model is:==========================================================--------------] 85.7% ...\n",
      " .\n",
      "\n",
      "Here is a sample code that you can use to print \"Hello World\" on the console:\n",
      "\n",
      "```python\n",
      "print(\"Hello World\")\n",
      "```\n"
     ]
    }
   ],
   "source": [
    "from PyPDF2 import PdfReader\n",
    "from pdfplumber import pdf\n",
    "from langchain.text_splitter import RecursiveCharacterTextSplitter\n",
    "from sentence_transformers import SentenceTransformer, util\n",
    "import time\n",
    "from gpt4all import GPT4All\n",
    "\n",
    "import sys\n",
    "import random\n",
    "\n",
    "def progressBar(count_value, total, suffix=''):\n",
    "    bar_length = 100\n",
    "    filled_up_Length = int(round(bar_length * count_value / float(total)))\n",
    "    percentage = round(100.0 * count_value / float(total), 1)\n",
    "    bar = '=' * filled_up_Length + '-' * (bar_length - filled_up_Length)\n",
    "    sys.stdout.write('[%s] %s%s ...%s\\r' % (bar, percentage, '%', suffix))\n",
    "    sys.stdout.flush()\n",
    "\n",
    "def get_query():\n",
    "    query = input(\"Enter your question (or type 'exit' to quit):\\n\")\n",
    "    progressBar(1, 7)\n",
    "    return query\n",
    "\n",
    "def load_split_pdf(pdf_path):\n",
    "    pdf_loader = PdfReader(open(pdf_path, \"rb\"))\n",
    "    pdf_text = \"\"\n",
    "    for page_num in range(len(pdf_loader.pages)):\n",
    "        pdf_page = pdf_loader.pages[page_num]\n",
    "        pdf_text += pdf_page.extract_text()\n",
    "    progressBar(2, 7)\n",
    "    return pdf_text\n",
    "\n",
    "def split_text_using_RCTS(pdf_text):\n",
    "    text_splitter = RecursiveCharacterTextSplitter(\n",
    "        chunk_size=2048,\n",
    "        chunk_overlap=64\n",
    "    )\n",
    "    split_texts = text_splitter.split_text(pdf_text)\n",
    "    paragraphs = []\n",
    "    for text in split_texts:\n",
    "        paragraphs.extend(text.split('\\n'))\n",
    "    progressBar(3, 7)\n",
    "    return paragraphs\n",
    "\n",
    "def Initialize_sentence_transformer():\n",
    "    model_name = \"sentence-transformers/all-MiniLM-L6-v2\"\n",
    "    embeddings = SentenceTransformer(model_name)\n",
    "    progressBar(4, 7)\n",
    "    return embeddings\n",
    "\n",
    "def encode_each_paragraph(paragraphs, embeddings):\n",
    "    responses = []\n",
    "    for paragraph in paragraphs:\n",
    "        response = embeddings.encode([paragraph], convert_to_tensor=True)\n",
    "        responses.append((paragraph, response))\n",
    "    progressBar(5, 7)\n",
    "    return responses\n",
    "\n",
    "def choose_most_relevant_sentence(embeddings, responses, query):\n",
    "    query_embedding = embeddings.encode([query], convert_to_tensor=True)\n",
    "    answers = []\n",
    "\n",
    "    for paragraph, response in responses:\n",
    "        similarity = util.pytorch_cos_sim(query_embedding, response).item()\n",
    "        if similarity >= 0.6:\n",
    "            answers.append(paragraph)\n",
    "    answer = \"\\n\".join(answers)\n",
    "    progressBar(6, 7)\n",
    "    return answer\n",
    "\n",
    "def query_the_llm(answer, llm_model, query):\n",
    "    prompt_message = answer + \"\\n\" + query\n",
    "    final_response = llm_model.generate(prompt=prompt_message)\n",
    "    return final_response\n",
    "\n",
    "def main(llm):\n",
    "    pdf_path = \"./mydoc.pdf\"\n",
    "    \n",
    "    while True:\n",
    "        query = get_query()\n",
    "        \n",
    "        if query.lower() == 'exit':\n",
    "            print(\"Exiting...\")\n",
    "            break\n",
    "        \n",
    "        pdf_text = load_split_pdf(pdf_path)\n",
    "        paragraphs = split_text_using_RCTS(pdf_text)\n",
    "        #print (paragraphs)\n",
    "        \n",
    "        embeddings = Initialize_sentence_transformer()\n",
    "        responses = encode_each_paragraph(paragraphs=paragraphs, embeddings=embeddings)\n",
    "        \n",
    "        answer = choose_most_relevant_sentence(embeddings=embeddings, responses=responses, query=query)\n",
    "        final_response = query_the_llm(answer=answer, llm_model=llm, query=query)\n",
    "        \n",
    "        print(\"The answer from the model is:\\n\", final_response)\n",
    "        \n",
    "    print(\"Program finished.\")\n",
    "    progressBar(7, 7)\n",
    "\n",
    "if __name__ == \"__main__\":\n",
    "    llm = GPT4All(\"orca-mini-3b-gguf2-q4_0.gguf\", allow_download=True)\n",
    "    main(llm)\n"
   ]
  },
  {
   "cell_type": "code",
   "execution_count": null,
   "id": "f441a3c7-8cdc-4117-a499-77b656c779f4",
   "metadata": {},
   "outputs": [],
   "source": [
    "\n"
   ]
  }
 ],
 "metadata": {
  "kernelspec": {
   "display_name": "Python 3 (ipykernel)",
   "language": "python",
   "name": "python3"
  },
  "language_info": {
   "codemirror_mode": {
    "name": "ipython",
    "version": 3
   },
   "file_extension": ".py",
   "mimetype": "text/x-python",
   "name": "python",
   "nbconvert_exporter": "python",
   "pygments_lexer": "ipython3",
   "version": "3.11.6"
  }
 },
 "nbformat": 4,
 "nbformat_minor": 5
}
