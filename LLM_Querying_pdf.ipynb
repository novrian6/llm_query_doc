{
 "cells": [
  {
   "cell_type": "code",
   "execution_count": 1,
   "id": "6356ab40-7644-4462-8662-2140a8f8acb9",
   "metadata": {},
   "outputs": [
    {
     "name": "stdout",
     "output_type": "stream",
     "text": [
      "Defaulting to user installation because normal site-packages is not writeable\n",
      "Requirement already satisfied: fitz in /Users/novanovriansyah/Library/Python/3.8/lib/python/site-packages (0.0.1.dev2)\n",
      "Requirement already satisfied: configobj in /Users/novanovriansyah/Library/Python/3.8/lib/python/site-packages (from fitz) (5.0.8)\n",
      "Requirement already satisfied: configparser in /Users/novanovriansyah/Library/Python/3.8/lib/python/site-packages (from fitz) (7.0.0)\n",
      "Requirement already satisfied: httplib2 in /Users/novanovriansyah/Library/Python/3.8/lib/python/site-packages (from fitz) (0.22.0)\n",
      "Requirement already satisfied: nibabel in /Users/novanovriansyah/Library/Python/3.8/lib/python/site-packages (from fitz) (5.2.1)\n",
      "Requirement already satisfied: nipype in /Users/novanovriansyah/Library/Python/3.8/lib/python/site-packages (from fitz) (1.8.6)\n",
      "Requirement already satisfied: numpy in /Users/novanovriansyah/Library/Python/3.8/lib/python/site-packages (from fitz) (1.24.4)\n",
      "Requirement already satisfied: pandas in /Users/novanovriansyah/Library/Python/3.8/lib/python/site-packages (from fitz) (2.0.3)\n",
      "Requirement already satisfied: pyxnat in /Users/novanovriansyah/Library/Python/3.8/lib/python/site-packages (from fitz) (1.6.2)\n",
      "Requirement already satisfied: scipy in /Users/novanovriansyah/Library/Python/3.8/lib/python/site-packages (from fitz) (1.10.1)\n",
      "Requirement already satisfied: six in /Users/novanovriansyah/Library/Python/3.8/lib/python/site-packages (from configobj->fitz) (1.16.0)\n",
      "Requirement already satisfied: pyparsing!=3.0.0,!=3.0.1,!=3.0.2,!=3.0.3,<4,>=2.4.2 in /Users/novanovriansyah/Library/Python/3.8/lib/python/site-packages (from httplib2->fitz) (3.1.2)\n",
      "Requirement already satisfied: importlib-resources>=1.3 in /Users/novanovriansyah/Library/Python/3.8/lib/python/site-packages (from nibabel->fitz) (6.1.2)\n",
      "Requirement already satisfied: packaging>=17 in /Users/novanovriansyah/Library/Python/3.8/lib/python/site-packages (from nibabel->fitz) (23.2)\n",
      "Requirement already satisfied: click>=6.6.0 in /Users/novanovriansyah/Library/Python/3.8/lib/python/site-packages (from nipype->fitz) (8.1.7)\n",
      "Requirement already satisfied: networkx>=2.0 in /Users/novanovriansyah/Library/Python/3.8/lib/python/site-packages (from nipype->fitz) (3.1)\n",
      "Requirement already satisfied: prov>=1.5.2 in /Users/novanovriansyah/Library/Python/3.8/lib/python/site-packages (from nipype->fitz) (2.0.0)\n",
      "Requirement already satisfied: pydot>=1.2.3 in /Users/novanovriansyah/Library/Python/3.8/lib/python/site-packages (from nipype->fitz) (2.0.0)\n",
      "Requirement already satisfied: python-dateutil>=2.2 in /Users/novanovriansyah/Library/Python/3.8/lib/python/site-packages (from nipype->fitz) (2.9.0.post0)\n",
      "Requirement already satisfied: rdflib>=5.0.0 in /Users/novanovriansyah/Library/Python/3.8/lib/python/site-packages (from nipype->fitz) (7.0.0)\n",
      "Requirement already satisfied: simplejson>=3.8.0 in /Users/novanovriansyah/Library/Python/3.8/lib/python/site-packages (from nipype->fitz) (3.19.2)\n",
      "Requirement already satisfied: traits!=5.0,<6.4,>=4.6 in /Users/novanovriansyah/Library/Python/3.8/lib/python/site-packages (from nipype->fitz) (6.3.2)\n",
      "Requirement already satisfied: filelock>=3.0.0 in /Users/novanovriansyah/Library/Python/3.8/lib/python/site-packages (from nipype->fitz) (3.13.4)\n",
      "Requirement already satisfied: etelemetry>=0.2.0 in /Users/novanovriansyah/Library/Python/3.8/lib/python/site-packages (from nipype->fitz) (0.3.1)\n",
      "Requirement already satisfied: looseversion in /Users/novanovriansyah/Library/Python/3.8/lib/python/site-packages (from nipype->fitz) (1.3.0)\n",
      "Requirement already satisfied: pytz>=2020.1 in /Users/novanovriansyah/Library/Python/3.8/lib/python/site-packages (from pandas->fitz) (2024.1)\n",
      "Requirement already satisfied: tzdata>=2022.1 in /Users/novanovriansyah/Library/Python/3.8/lib/python/site-packages (from pandas->fitz) (2024.1)\n",
      "Requirement already satisfied: lxml>=4.3 in /Users/novanovriansyah/Library/Python/3.8/lib/python/site-packages (from pyxnat->fitz) (5.2.1)\n",
      "Requirement already satisfied: requests>=2.20 in /Users/novanovriansyah/Library/Python/3.8/lib/python/site-packages (from pyxnat->fitz) (2.31.0)\n",
      "Requirement already satisfied: pathlib>=1.0 in /Users/novanovriansyah/Library/Python/3.8/lib/python/site-packages (from pyxnat->fitz) (1.0.1)\n",
      "Requirement already satisfied: ci-info>=0.2 in /Users/novanovriansyah/Library/Python/3.8/lib/python/site-packages (from etelemetry>=0.2.0->nipype->fitz) (0.3.0)\n",
      "Requirement already satisfied: zipp>=3.1.0 in /Users/novanovriansyah/Library/Python/3.8/lib/python/site-packages (from importlib-resources>=1.3->nibabel->fitz) (3.17.0)\n",
      "Requirement already satisfied: isodate<0.7.0,>=0.6.0 in /Users/novanovriansyah/Library/Python/3.8/lib/python/site-packages (from rdflib>=5.0.0->nipype->fitz) (0.6.1)\n",
      "Requirement already satisfied: charset-normalizer<4,>=2 in /Users/novanovriansyah/Library/Python/3.8/lib/python/site-packages (from requests>=2.20->pyxnat->fitz) (3.3.2)\n",
      "Requirement already satisfied: idna<4,>=2.5 in /Users/novanovriansyah/Library/Python/3.8/lib/python/site-packages (from requests>=2.20->pyxnat->fitz) (3.6)\n",
      "Requirement already satisfied: urllib3<3,>=1.21.1 in /Users/novanovriansyah/Library/Python/3.8/lib/python/site-packages (from requests>=2.20->pyxnat->fitz) (2.2.1)\n",
      "Requirement already satisfied: certifi>=2017.4.17 in /Users/novanovriansyah/Library/Python/3.8/lib/python/site-packages (from requests>=2.20->pyxnat->fitz) (2024.2.2)\n"
     ]
    }
   ],
   "source": [
    "#pip install transformers\n",
    "!pip install fitz\n"
   ]
  },
  {
   "cell_type": "code",
   "execution_count": 2,
   "id": "b1207674-d583-404d-84f9-cf59495f318a",
   "metadata": {},
   "outputs": [
    {
     "name": "stdout",
     "output_type": "stream",
     "text": [
      "Defaulting to user installation because normal site-packages is not writeable\n",
      "Requirement already satisfied: pymupdf in /Users/novanovriansyah/Library/Python/3.8/lib/python/site-packages (1.24.1)\n",
      "Requirement already satisfied: frontend in /Users/novanovriansyah/Library/Python/3.8/lib/python/site-packages (0.0.3)\n",
      "Requirement already satisfied: PyMuPDFb==1.24.1 in /Users/novanovriansyah/Library/Python/3.8/lib/python/site-packages (from pymupdf) (1.24.1)\n",
      "Requirement already satisfied: starlette>=0.12.0 in /Users/novanovriansyah/Library/Python/3.8/lib/python/site-packages (from frontend) (0.37.2)\n",
      "Requirement already satisfied: uvicorn>=0.7.1 in /Users/novanovriansyah/Library/Python/3.8/lib/python/site-packages (from frontend) (0.29.0)\n",
      "Requirement already satisfied: itsdangerous>=1.1.0 in /Users/novanovriansyah/Library/Python/3.8/lib/python/site-packages (from frontend) (2.1.2)\n",
      "Requirement already satisfied: aiofiles in /Users/novanovriansyah/Library/Python/3.8/lib/python/site-packages (from frontend) (23.2.1)\n",
      "Requirement already satisfied: anyio<5,>=3.4.0 in /Users/novanovriansyah/Library/Python/3.8/lib/python/site-packages (from starlette>=0.12.0->frontend) (4.3.0)\n",
      "Requirement already satisfied: typing-extensions>=3.10.0 in /Users/novanovriansyah/Library/Python/3.8/lib/python/site-packages (from starlette>=0.12.0->frontend) (4.10.0)\n",
      "Requirement already satisfied: click>=7.0 in /Users/novanovriansyah/Library/Python/3.8/lib/python/site-packages (from uvicorn>=0.7.1->frontend) (8.1.7)\n",
      "Requirement already satisfied: h11>=0.8 in /Users/novanovriansyah/Library/Python/3.8/lib/python/site-packages (from uvicorn>=0.7.1->frontend) (0.14.0)\n",
      "Requirement already satisfied: idna>=2.8 in /Users/novanovriansyah/Library/Python/3.8/lib/python/site-packages (from anyio<5,>=3.4.0->starlette>=0.12.0->frontend) (3.6)\n",
      "Requirement already satisfied: sniffio>=1.1 in /Users/novanovriansyah/Library/Python/3.8/lib/python/site-packages (from anyio<5,>=3.4.0->starlette>=0.12.0->frontend) (1.3.1)\n",
      "Requirement already satisfied: exceptiongroup>=1.0.2 in /Users/novanovriansyah/Library/Python/3.8/lib/python/site-packages (from anyio<5,>=3.4.0->starlette>=0.12.0->frontend) (1.2.0)\n"
     ]
    }
   ],
   "source": [
    "!pip install   pymupdf frontend \n"
   ]
  },
  {
   "cell_type": "code",
   "execution_count": 3,
   "id": "ed4e23cf-fdd1-4527-b8d5-c400466b9467",
   "metadata": {},
   "outputs": [
    {
     "name": "stdout",
     "output_type": "stream",
     "text": [
      "Defaulting to user installation because normal site-packages is not writeable\n",
      "Requirement already satisfied: torch in /Users/novanovriansyah/Library/Python/3.8/lib/python/site-packages (2.2.2)\n",
      "Requirement already satisfied: jax in /Users/novanovriansyah/Library/Python/3.8/lib/python/site-packages (0.4.13)\n",
      "Requirement already satisfied: jaxlib in /Users/novanovriansyah/Library/Python/3.8/lib/python/site-packages (0.4.13)\n",
      "Requirement already satisfied: filelock in /Users/novanovriansyah/Library/Python/3.8/lib/python/site-packages (from torch) (3.13.4)\n",
      "Requirement already satisfied: typing-extensions>=4.8.0 in /Users/novanovriansyah/Library/Python/3.8/lib/python/site-packages (from torch) (4.10.0)\n",
      "Requirement already satisfied: sympy in /Users/novanovriansyah/Library/Python/3.8/lib/python/site-packages (from torch) (1.12)\n",
      "Requirement already satisfied: networkx in /Users/novanovriansyah/Library/Python/3.8/lib/python/site-packages (from torch) (3.1)\n",
      "Requirement already satisfied: jinja2 in /Users/novanovriansyah/Library/Python/3.8/lib/python/site-packages (from torch) (3.1.3)\n",
      "Requirement already satisfied: fsspec in /Users/novanovriansyah/Library/Python/3.8/lib/python/site-packages (from torch) (2024.3.1)\n",
      "Requirement already satisfied: ml-dtypes>=0.1.0 in /Users/novanovriansyah/Library/Python/3.8/lib/python/site-packages (from jax) (0.2.0)\n",
      "Requirement already satisfied: numpy>=1.21 in /Users/novanovriansyah/Library/Python/3.8/lib/python/site-packages (from jax) (1.24.4)\n",
      "Requirement already satisfied: opt-einsum in /Users/novanovriansyah/Library/Python/3.8/lib/python/site-packages (from jax) (3.3.0)\n",
      "Requirement already satisfied: scipy>=1.7 in /Users/novanovriansyah/Library/Python/3.8/lib/python/site-packages (from jax) (1.10.1)\n",
      "Requirement already satisfied: importlib-metadata>=4.6 in /Users/novanovriansyah/Library/Python/3.8/lib/python/site-packages (from jax) (7.0.1)\n",
      "Requirement already satisfied: zipp>=0.5 in /Users/novanovriansyah/Library/Python/3.8/lib/python/site-packages (from importlib-metadata>=4.6->jax) (3.17.0)\n",
      "Requirement already satisfied: MarkupSafe>=2.0 in /Users/novanovriansyah/Library/Python/3.8/lib/python/site-packages (from jinja2->torch) (2.1.5)\n",
      "Requirement already satisfied: mpmath>=0.19 in /Users/novanovriansyah/Library/Python/3.8/lib/python/site-packages (from sympy->torch) (1.3.0)\n"
     ]
    }
   ],
   "source": [
    "!pip install torch jax jaxlib"
   ]
  },
  {
   "cell_type": "code",
   "execution_count": 4,
   "id": "0337d771-9667-4738-8a04-7c0b6a7f793d",
   "metadata": {},
   "outputs": [
    {
     "name": "stdout",
     "output_type": "stream",
     "text": [
      "Defaulting to user installation because normal site-packages is not writeable\n",
      "Requirement already satisfied: jax in /Users/novanovriansyah/Library/Python/3.8/lib/python/site-packages (0.4.13)\n",
      "Requirement already satisfied: jaxlib in /Users/novanovriansyah/Library/Python/3.8/lib/python/site-packages (0.4.13)\n",
      "Requirement already satisfied: ml-dtypes>=0.1.0 in /Users/novanovriansyah/Library/Python/3.8/lib/python/site-packages (from jax) (0.2.0)\n",
      "Requirement already satisfied: numpy>=1.21 in /Users/novanovriansyah/Library/Python/3.8/lib/python/site-packages (from jax) (1.24.4)\n",
      "Requirement already satisfied: opt-einsum in /Users/novanovriansyah/Library/Python/3.8/lib/python/site-packages (from jax) (3.3.0)\n",
      "Requirement already satisfied: scipy>=1.7 in /Users/novanovriansyah/Library/Python/3.8/lib/python/site-packages (from jax) (1.10.1)\n",
      "Requirement already satisfied: importlib-metadata>=4.6 in /Users/novanovriansyah/Library/Python/3.8/lib/python/site-packages (from jax) (7.0.1)\n",
      "Requirement already satisfied: zipp>=0.5 in /Users/novanovriansyah/Library/Python/3.8/lib/python/site-packages (from importlib-metadata>=4.6->jax) (3.17.0)\n"
     ]
    }
   ],
   "source": [
    "#!pip uninstall jax jaxlib\n",
    "!pip install jax jaxlib\n"
   ]
  },
  {
   "cell_type": "code",
   "execution_count": 5,
   "id": "aec111f8-a992-445a-a578-b7b36fa27772",
   "metadata": {},
   "outputs": [
    {
     "name": "stdout",
     "output_type": "stream",
     "text": [
      "Defaulting to user installation because normal site-packages is not writeable\n",
      "Requirement already satisfied: transformers in /Users/novanovriansyah/Library/Python/3.8/lib/python/site-packages (4.39.3)\n",
      "Requirement already satisfied: flax in /Users/novanovriansyah/Library/Python/3.8/lib/python/site-packages (0.7.2)\n",
      "Requirement already satisfied: filelock in /Users/novanovriansyah/Library/Python/3.8/lib/python/site-packages (from transformers) (3.13.4)\n",
      "Requirement already satisfied: huggingface-hub<1.0,>=0.19.3 in /Users/novanovriansyah/Library/Python/3.8/lib/python/site-packages (from transformers) (0.22.2)\n",
      "Requirement already satisfied: numpy>=1.17 in /Users/novanovriansyah/Library/Python/3.8/lib/python/site-packages (from transformers) (1.24.4)\n",
      "Requirement already satisfied: packaging>=20.0 in /Users/novanovriansyah/Library/Python/3.8/lib/python/site-packages (from transformers) (23.2)\n",
      "Requirement already satisfied: pyyaml>=5.1 in /Users/novanovriansyah/Library/Python/3.8/lib/python/site-packages (from transformers) (6.0.1)\n",
      "Requirement already satisfied: regex!=2019.12.17 in /Users/novanovriansyah/Library/Python/3.8/lib/python/site-packages (from transformers) (2023.12.25)\n",
      "Requirement already satisfied: requests in /Users/novanovriansyah/Library/Python/3.8/lib/python/site-packages (from transformers) (2.31.0)\n",
      "Requirement already satisfied: tokenizers<0.19,>=0.14 in /Users/novanovriansyah/Library/Python/3.8/lib/python/site-packages (from transformers) (0.15.2)\n",
      "Requirement already satisfied: safetensors>=0.4.1 in /Users/novanovriansyah/Library/Python/3.8/lib/python/site-packages (from transformers) (0.4.2)\n",
      "Requirement already satisfied: tqdm>=4.27 in /Users/novanovriansyah/Library/Python/3.8/lib/python/site-packages (from transformers) (4.66.2)\n",
      "Requirement already satisfied: jax>=0.4.2 in /Users/novanovriansyah/Library/Python/3.8/lib/python/site-packages (from flax) (0.4.13)\n",
      "Requirement already satisfied: msgpack in /Users/novanovriansyah/Library/Python/3.8/lib/python/site-packages (from flax) (1.0.8)\n",
      "Requirement already satisfied: optax in /Users/novanovriansyah/Library/Python/3.8/lib/python/site-packages (from flax) (0.1.8)\n",
      "Requirement already satisfied: orbax-checkpoint in /Users/novanovriansyah/Library/Python/3.8/lib/python/site-packages (from flax) (0.2.3)\n",
      "Requirement already satisfied: tensorstore in /Users/novanovriansyah/Library/Python/3.8/lib/python/site-packages (from flax) (0.1.45)\n",
      "Requirement already satisfied: rich>=11.1 in /Users/novanovriansyah/Library/Python/3.8/lib/python/site-packages (from flax) (13.7.1)\n",
      "Requirement already satisfied: typing-extensions>=4.1.1 in /Users/novanovriansyah/Library/Python/3.8/lib/python/site-packages (from flax) (4.10.0)\n",
      "Requirement already satisfied: fsspec>=2023.5.0 in /Users/novanovriansyah/Library/Python/3.8/lib/python/site-packages (from huggingface-hub<1.0,>=0.19.3->transformers) (2024.3.1)\n",
      "Requirement already satisfied: ml-dtypes>=0.1.0 in /Users/novanovriansyah/Library/Python/3.8/lib/python/site-packages (from jax>=0.4.2->flax) (0.2.0)\n",
      "Requirement already satisfied: opt-einsum in /Users/novanovriansyah/Library/Python/3.8/lib/python/site-packages (from jax>=0.4.2->flax) (3.3.0)\n",
      "Requirement already satisfied: scipy>=1.7 in /Users/novanovriansyah/Library/Python/3.8/lib/python/site-packages (from jax>=0.4.2->flax) (1.10.1)\n",
      "Requirement already satisfied: importlib-metadata>=4.6 in /Users/novanovriansyah/Library/Python/3.8/lib/python/site-packages (from jax>=0.4.2->flax) (7.0.1)\n",
      "Requirement already satisfied: markdown-it-py>=2.2.0 in /Users/novanovriansyah/Library/Python/3.8/lib/python/site-packages (from rich>=11.1->flax) (3.0.0)\n",
      "Requirement already satisfied: pygments<3.0.0,>=2.13.0 in /Users/novanovriansyah/Library/Python/3.8/lib/python/site-packages (from rich>=11.1->flax) (2.17.2)\n",
      "Requirement already satisfied: absl-py>=0.7.1 in /Users/novanovriansyah/Library/Python/3.8/lib/python/site-packages (from optax->flax) (2.1.0)\n",
      "Requirement already satisfied: chex>=0.1.7 in /Users/novanovriansyah/Library/Python/3.8/lib/python/site-packages (from optax->flax) (0.1.7)\n",
      "Requirement already satisfied: jaxlib>=0.1.37 in /Users/novanovriansyah/Library/Python/3.8/lib/python/site-packages (from optax->flax) (0.4.13)\n",
      "Requirement already satisfied: cached_property in /Users/novanovriansyah/Library/Python/3.8/lib/python/site-packages (from orbax-checkpoint->flax) (1.5.2)\n",
      "Requirement already satisfied: importlib_resources in /Users/novanovriansyah/Library/Python/3.8/lib/python/site-packages (from orbax-checkpoint->flax) (6.1.2)\n",
      "Requirement already satisfied: etils in /Users/novanovriansyah/Library/Python/3.8/lib/python/site-packages (from orbax-checkpoint->flax) (1.3.0)\n",
      "Requirement already satisfied: nest_asyncio in /Users/novanovriansyah/Library/Python/3.8/lib/python/site-packages (from orbax-checkpoint->flax) (1.6.0)\n",
      "Requirement already satisfied: charset-normalizer<4,>=2 in /Users/novanovriansyah/Library/Python/3.8/lib/python/site-packages (from requests->transformers) (3.3.2)\n",
      "Requirement already satisfied: idna<4,>=2.5 in /Users/novanovriansyah/Library/Python/3.8/lib/python/site-packages (from requests->transformers) (3.6)\n",
      "Requirement already satisfied: urllib3<3,>=1.21.1 in /Users/novanovriansyah/Library/Python/3.8/lib/python/site-packages (from requests->transformers) (2.2.1)\n",
      "Requirement already satisfied: certifi>=2017.4.17 in /Users/novanovriansyah/Library/Python/3.8/lib/python/site-packages (from requests->transformers) (2024.2.2)\n",
      "Requirement already satisfied: dm-tree>=0.1.5 in /Users/novanovriansyah/Library/Python/3.8/lib/python/site-packages (from chex>=0.1.7->optax->flax) (0.1.8)\n",
      "Requirement already satisfied: toolz>=0.9.0 in /Users/novanovriansyah/Library/Python/3.8/lib/python/site-packages (from chex>=0.1.7->optax->flax) (0.12.1)\n",
      "Requirement already satisfied: zipp>=0.5 in /Users/novanovriansyah/Library/Python/3.8/lib/python/site-packages (from importlib-metadata>=4.6->jax>=0.4.2->flax) (3.17.0)\n",
      "Requirement already satisfied: mdurl~=0.1 in /Users/novanovriansyah/Library/Python/3.8/lib/python/site-packages (from markdown-it-py>=2.2.0->rich>=11.1->flax) (0.1.2)\n",
      "Defaulting to user installation because normal site-packages is not writeable\n",
      "Requirement already satisfied: tf-keras in /Users/novanovriansyah/Library/Python/3.8/lib/python/site-packages (2.15.0)\n"
     ]
    }
   ],
   "source": [
    "!pip install transformers flax\n",
    "!pip install tf-keras"
   ]
  },
  {
   "cell_type": "code",
   "execution_count": 6,
   "id": "e0cffc92-b248-4b33-8f79-d7ba9a4d98ae",
   "metadata": {},
   "outputs": [
    {
     "name": "stdout",
     "output_type": "stream",
     "text": [
      "Requirement already satisfied: pymupdf in /Library/Frameworks/Python.framework/Versions/3.11/lib/python3.11/site-packages (1.24.1)\n",
      "Requirement already satisfied: PyMuPDFb==1.24.1 in /Library/Frameworks/Python.framework/Versions/3.11/lib/python3.11/site-packages (from pymupdf) (1.24.1)\n",
      "Note: you may need to restart the kernel to use updated packages.\n"
     ]
    }
   ],
   "source": [
    "pip install pymupdf\n"
   ]
  },
  {
   "cell_type": "code",
   "execution_count": 7,
   "id": "4f3e676c-a525-42f2-b000-a907f8a88383",
   "metadata": {},
   "outputs": [
    {
     "name": "stdout",
     "output_type": "stream",
     "text": [
      "Requirement already satisfied: transformers in /Library/Frameworks/Python.framework/Versions/3.11/lib/python3.11/site-packages (4.39.3)\n",
      "Requirement already satisfied: filelock in /Library/Frameworks/Python.framework/Versions/3.11/lib/python3.11/site-packages (from transformers) (3.13.4)\n",
      "Requirement already satisfied: huggingface-hub<1.0,>=0.19.3 in /Library/Frameworks/Python.framework/Versions/3.11/lib/python3.11/site-packages (from transformers) (0.22.2)\n",
      "Requirement already satisfied: numpy>=1.17 in /Library/Frameworks/Python.framework/Versions/3.11/lib/python3.11/site-packages (from transformers) (1.26.4)\n",
      "Requirement already satisfied: packaging>=20.0 in /Users/novanovriansyah/Library/Python/3.11/lib/python/site-packages (from transformers) (23.2)\n",
      "Requirement already satisfied: pyyaml>=5.1 in /Library/Frameworks/Python.framework/Versions/3.11/lib/python3.11/site-packages (from transformers) (6.0.1)\n",
      "Requirement already satisfied: regex!=2019.12.17 in /Library/Frameworks/Python.framework/Versions/3.11/lib/python3.11/site-packages (from transformers) (2023.12.25)\n",
      "Requirement already satisfied: requests in /Library/Frameworks/Python.framework/Versions/3.11/lib/python3.11/site-packages (from transformers) (2.31.0)\n",
      "Requirement already satisfied: tokenizers<0.19,>=0.14 in /Library/Frameworks/Python.framework/Versions/3.11/lib/python3.11/site-packages (from transformers) (0.15.2)\n",
      "Requirement already satisfied: safetensors>=0.4.1 in /Library/Frameworks/Python.framework/Versions/3.11/lib/python3.11/site-packages (from transformers) (0.4.2)\n",
      "Requirement already satisfied: tqdm>=4.27 in /Library/Frameworks/Python.framework/Versions/3.11/lib/python3.11/site-packages (from transformers) (4.66.2)\n",
      "Requirement already satisfied: fsspec>=2023.5.0 in /Library/Frameworks/Python.framework/Versions/3.11/lib/python3.11/site-packages (from huggingface-hub<1.0,>=0.19.3->transformers) (2024.3.1)\n",
      "Requirement already satisfied: typing-extensions>=3.7.4.3 in /Library/Frameworks/Python.framework/Versions/3.11/lib/python3.11/site-packages (from huggingface-hub<1.0,>=0.19.3->transformers) (4.10.0)\n",
      "Requirement already satisfied: charset-normalizer<4,>=2 in /Library/Frameworks/Python.framework/Versions/3.11/lib/python3.11/site-packages (from requests->transformers) (3.3.2)\n",
      "Requirement already satisfied: idna<4,>=2.5 in /Library/Frameworks/Python.framework/Versions/3.11/lib/python3.11/site-packages (from requests->transformers) (3.6)\n",
      "Requirement already satisfied: urllib3<3,>=1.21.1 in /Library/Frameworks/Python.framework/Versions/3.11/lib/python3.11/site-packages (from requests->transformers) (2.2.1)\n",
      "Requirement already satisfied: certifi>=2017.4.17 in /Library/Frameworks/Python.framework/Versions/3.11/lib/python3.11/site-packages (from requests->transformers) (2024.2.2)\n",
      "Note: you may need to restart the kernel to use updated packages.\n"
     ]
    }
   ],
   "source": [
    "pip install transformers\n"
   ]
  },
  {
   "cell_type": "code",
   "execution_count": 8,
   "id": "76045140-22b9-4f73-9325-7532116a8776",
   "metadata": {},
   "outputs": [
    {
     "name": "stdout",
     "output_type": "stream",
     "text": [
      "Requirement already satisfied: tf-keras in /Library/Frameworks/Python.framework/Versions/3.11/lib/python3.11/site-packages (2.16.0)\n",
      "Requirement already satisfied: tensorflow<2.17,>=2.16 in /Library/Frameworks/Python.framework/Versions/3.11/lib/python3.11/site-packages (from tf-keras) (2.16.1)\n",
      "Requirement already satisfied: absl-py>=1.0.0 in /Library/Frameworks/Python.framework/Versions/3.11/lib/python3.11/site-packages (from tensorflow<2.17,>=2.16->tf-keras) (2.1.0)\n",
      "Requirement already satisfied: astunparse>=1.6.0 in /Library/Frameworks/Python.framework/Versions/3.11/lib/python3.11/site-packages (from tensorflow<2.17,>=2.16->tf-keras) (1.6.3)\n",
      "Requirement already satisfied: flatbuffers>=23.5.26 in /Library/Frameworks/Python.framework/Versions/3.11/lib/python3.11/site-packages (from tensorflow<2.17,>=2.16->tf-keras) (24.3.7)\n",
      "Requirement already satisfied: gast!=0.5.0,!=0.5.1,!=0.5.2,>=0.2.1 in /Library/Frameworks/Python.framework/Versions/3.11/lib/python3.11/site-packages (from tensorflow<2.17,>=2.16->tf-keras) (0.5.4)\n",
      "Requirement already satisfied: google-pasta>=0.1.1 in /Library/Frameworks/Python.framework/Versions/3.11/lib/python3.11/site-packages (from tensorflow<2.17,>=2.16->tf-keras) (0.2.0)\n",
      "Requirement already satisfied: h5py>=3.10.0 in /Library/Frameworks/Python.framework/Versions/3.11/lib/python3.11/site-packages (from tensorflow<2.17,>=2.16->tf-keras) (3.10.0)\n",
      "Requirement already satisfied: libclang>=13.0.0 in /Library/Frameworks/Python.framework/Versions/3.11/lib/python3.11/site-packages (from tensorflow<2.17,>=2.16->tf-keras) (18.1.1)\n",
      "Requirement already satisfied: ml-dtypes~=0.3.1 in /Library/Frameworks/Python.framework/Versions/3.11/lib/python3.11/site-packages (from tensorflow<2.17,>=2.16->tf-keras) (0.3.2)\n",
      "Requirement already satisfied: opt-einsum>=2.3.2 in /Library/Frameworks/Python.framework/Versions/3.11/lib/python3.11/site-packages (from tensorflow<2.17,>=2.16->tf-keras) (3.3.0)\n",
      "Requirement already satisfied: packaging in /Users/novanovriansyah/Library/Python/3.11/lib/python/site-packages (from tensorflow<2.17,>=2.16->tf-keras) (23.2)\n",
      "Requirement already satisfied: protobuf!=4.21.0,!=4.21.1,!=4.21.2,!=4.21.3,!=4.21.4,!=4.21.5,<5.0.0dev,>=3.20.3 in /Library/Frameworks/Python.framework/Versions/3.11/lib/python3.11/site-packages (from tensorflow<2.17,>=2.16->tf-keras) (4.25.3)\n",
      "Requirement already satisfied: requests<3,>=2.21.0 in /Library/Frameworks/Python.framework/Versions/3.11/lib/python3.11/site-packages (from tensorflow<2.17,>=2.16->tf-keras) (2.31.0)\n",
      "Requirement already satisfied: setuptools in /Library/Frameworks/Python.framework/Versions/3.11/lib/python3.11/site-packages (from tensorflow<2.17,>=2.16->tf-keras) (65.5.0)\n",
      "Requirement already satisfied: six>=1.12.0 in /Users/novanovriansyah/Library/Python/3.11/lib/python/site-packages (from tensorflow<2.17,>=2.16->tf-keras) (1.16.0)\n",
      "Requirement already satisfied: termcolor>=1.1.0 in /Library/Frameworks/Python.framework/Versions/3.11/lib/python3.11/site-packages (from tensorflow<2.17,>=2.16->tf-keras) (2.4.0)\n",
      "Requirement already satisfied: typing-extensions>=3.6.6 in /Library/Frameworks/Python.framework/Versions/3.11/lib/python3.11/site-packages (from tensorflow<2.17,>=2.16->tf-keras) (4.10.0)\n",
      "Requirement already satisfied: wrapt>=1.11.0 in /Library/Frameworks/Python.framework/Versions/3.11/lib/python3.11/site-packages (from tensorflow<2.17,>=2.16->tf-keras) (1.16.0)\n",
      "Requirement already satisfied: grpcio<2.0,>=1.24.3 in /Library/Frameworks/Python.framework/Versions/3.11/lib/python3.11/site-packages (from tensorflow<2.17,>=2.16->tf-keras) (1.62.1)\n",
      "Requirement already satisfied: tensorboard<2.17,>=2.16 in /Library/Frameworks/Python.framework/Versions/3.11/lib/python3.11/site-packages (from tensorflow<2.17,>=2.16->tf-keras) (2.16.2)\n",
      "Requirement already satisfied: keras>=3.0.0 in /Library/Frameworks/Python.framework/Versions/3.11/lib/python3.11/site-packages (from tensorflow<2.17,>=2.16->tf-keras) (3.1.1)\n",
      "Requirement already satisfied: tensorflow-io-gcs-filesystem>=0.23.1 in /Library/Frameworks/Python.framework/Versions/3.11/lib/python3.11/site-packages (from tensorflow<2.17,>=2.16->tf-keras) (0.36.0)\n",
      "Requirement already satisfied: numpy<2.0.0,>=1.23.5 in /Library/Frameworks/Python.framework/Versions/3.11/lib/python3.11/site-packages (from tensorflow<2.17,>=2.16->tf-keras) (1.26.4)\n",
      "Requirement already satisfied: wheel<1.0,>=0.23.0 in /Library/Frameworks/Python.framework/Versions/3.11/lib/python3.11/site-packages (from astunparse>=1.6.0->tensorflow<2.17,>=2.16->tf-keras) (0.43.0)\n",
      "Requirement already satisfied: rich in /Library/Frameworks/Python.framework/Versions/3.11/lib/python3.11/site-packages (from keras>=3.0.0->tensorflow<2.17,>=2.16->tf-keras) (13.7.1)\n",
      "Requirement already satisfied: namex in /Library/Frameworks/Python.framework/Versions/3.11/lib/python3.11/site-packages (from keras>=3.0.0->tensorflow<2.17,>=2.16->tf-keras) (0.0.7)\n",
      "Requirement already satisfied: optree in /Library/Frameworks/Python.framework/Versions/3.11/lib/python3.11/site-packages (from keras>=3.0.0->tensorflow<2.17,>=2.16->tf-keras) (0.10.0)\n",
      "Requirement already satisfied: charset-normalizer<4,>=2 in /Library/Frameworks/Python.framework/Versions/3.11/lib/python3.11/site-packages (from requests<3,>=2.21.0->tensorflow<2.17,>=2.16->tf-keras) (3.3.2)\n",
      "Requirement already satisfied: idna<4,>=2.5 in /Library/Frameworks/Python.framework/Versions/3.11/lib/python3.11/site-packages (from requests<3,>=2.21.0->tensorflow<2.17,>=2.16->tf-keras) (3.6)\n",
      "Requirement already satisfied: urllib3<3,>=1.21.1 in /Library/Frameworks/Python.framework/Versions/3.11/lib/python3.11/site-packages (from requests<3,>=2.21.0->tensorflow<2.17,>=2.16->tf-keras) (2.2.1)\n",
      "Requirement already satisfied: certifi>=2017.4.17 in /Library/Frameworks/Python.framework/Versions/3.11/lib/python3.11/site-packages (from requests<3,>=2.21.0->tensorflow<2.17,>=2.16->tf-keras) (2024.2.2)\n",
      "Requirement already satisfied: markdown>=2.6.8 in /Library/Frameworks/Python.framework/Versions/3.11/lib/python3.11/site-packages (from tensorboard<2.17,>=2.16->tensorflow<2.17,>=2.16->tf-keras) (3.6)\n",
      "Requirement already satisfied: tensorboard-data-server<0.8.0,>=0.7.0 in /Library/Frameworks/Python.framework/Versions/3.11/lib/python3.11/site-packages (from tensorboard<2.17,>=2.16->tensorflow<2.17,>=2.16->tf-keras) (0.7.2)\n",
      "Requirement already satisfied: werkzeug>=1.0.1 in /Library/Frameworks/Python.framework/Versions/3.11/lib/python3.11/site-packages (from tensorboard<2.17,>=2.16->tensorflow<2.17,>=2.16->tf-keras) (3.0.1)\n",
      "Requirement already satisfied: MarkupSafe>=2.1.1 in /Library/Frameworks/Python.framework/Versions/3.11/lib/python3.11/site-packages (from werkzeug>=1.0.1->tensorboard<2.17,>=2.16->tensorflow<2.17,>=2.16->tf-keras) (2.1.5)\n",
      "Requirement already satisfied: markdown-it-py>=2.2.0 in /Library/Frameworks/Python.framework/Versions/3.11/lib/python3.11/site-packages (from rich->keras>=3.0.0->tensorflow<2.17,>=2.16->tf-keras) (3.0.0)\n",
      "Requirement already satisfied: pygments<3.0.0,>=2.13.0 in /Users/novanovriansyah/Library/Python/3.11/lib/python/site-packages (from rich->keras>=3.0.0->tensorflow<2.17,>=2.16->tf-keras) (2.17.2)\n",
      "Requirement already satisfied: mdurl~=0.1 in /Library/Frameworks/Python.framework/Versions/3.11/lib/python3.11/site-packages (from markdown-it-py>=2.2.0->rich->keras>=3.0.0->tensorflow<2.17,>=2.16->tf-keras) (0.1.2)\n",
      "Note: you may need to restart the kernel to use updated packages.\n"
     ]
    }
   ],
   "source": [
    "pip install tf-keras"
   ]
  },
  {
   "cell_type": "code",
   "execution_count": 9,
   "id": "81c603ba-6d28-4090-9a1d-d08bfec11e23",
   "metadata": {},
   "outputs": [
    {
     "name": "stdout",
     "output_type": "stream",
     "text": [
      "Requirement already satisfied: jupyter in /Library/Frameworks/Python.framework/Versions/3.11/lib/python3.11/site-packages (1.0.0)\n",
      "Requirement already satisfied: ipywidgets in /Library/Frameworks/Python.framework/Versions/3.11/lib/python3.11/site-packages (8.1.2)\n",
      "Requirement already satisfied: notebook in /Library/Frameworks/Python.framework/Versions/3.11/lib/python3.11/site-packages (from jupyter) (7.1.1)\n",
      "Requirement already satisfied: qtconsole in /Library/Frameworks/Python.framework/Versions/3.11/lib/python3.11/site-packages (from jupyter) (5.5.1)\n",
      "Requirement already satisfied: jupyter-console in /Library/Frameworks/Python.framework/Versions/3.11/lib/python3.11/site-packages (from jupyter) (6.6.3)\n",
      "Requirement already satisfied: nbconvert in /Library/Frameworks/Python.framework/Versions/3.11/lib/python3.11/site-packages (from jupyter) (7.16.1)\n",
      "Requirement already satisfied: ipykernel in /Users/novanovriansyah/Library/Python/3.11/lib/python/site-packages (from jupyter) (6.29.3)\n",
      "Requirement already satisfied: comm>=0.1.3 in /Users/novanovriansyah/Library/Python/3.11/lib/python/site-packages (from ipywidgets) (0.2.1)\n",
      "Requirement already satisfied: ipython>=6.1.0 in /Users/novanovriansyah/Library/Python/3.11/lib/python/site-packages (from ipywidgets) (8.22.1)\n",
      "Requirement already satisfied: traitlets>=4.3.1 in /Users/novanovriansyah/Library/Python/3.11/lib/python/site-packages (from ipywidgets) (5.14.1)\n",
      "Requirement already satisfied: widgetsnbextension~=4.0.10 in /Library/Frameworks/Python.framework/Versions/3.11/lib/python3.11/site-packages (from ipywidgets) (4.0.10)\n",
      "Requirement already satisfied: jupyterlab-widgets~=3.0.10 in /Library/Frameworks/Python.framework/Versions/3.11/lib/python3.11/site-packages (from ipywidgets) (3.0.10)\n",
      "Requirement already satisfied: decorator in /Users/novanovriansyah/Library/Python/3.11/lib/python/site-packages (from ipython>=6.1.0->ipywidgets) (5.1.1)\n",
      "Requirement already satisfied: jedi>=0.16 in /Users/novanovriansyah/Library/Python/3.11/lib/python/site-packages (from ipython>=6.1.0->ipywidgets) (0.19.1)\n",
      "Requirement already satisfied: matplotlib-inline in /Users/novanovriansyah/Library/Python/3.11/lib/python/site-packages (from ipython>=6.1.0->ipywidgets) (0.1.6)\n",
      "Requirement already satisfied: prompt-toolkit<3.1.0,>=3.0.41 in /Users/novanovriansyah/Library/Python/3.11/lib/python/site-packages (from ipython>=6.1.0->ipywidgets) (3.0.43)\n",
      "Requirement already satisfied: pygments>=2.4.0 in /Users/novanovriansyah/Library/Python/3.11/lib/python/site-packages (from ipython>=6.1.0->ipywidgets) (2.17.2)\n",
      "Requirement already satisfied: stack-data in /Users/novanovriansyah/Library/Python/3.11/lib/python/site-packages (from ipython>=6.1.0->ipywidgets) (0.6.3)\n",
      "Requirement already satisfied: pexpect>4.3 in /Users/novanovriansyah/Library/Python/3.11/lib/python/site-packages (from ipython>=6.1.0->ipywidgets) (4.9.0)\n",
      "Requirement already satisfied: appnope in /Users/novanovriansyah/Library/Python/3.11/lib/python/site-packages (from ipykernel->jupyter) (0.1.4)\n",
      "Requirement already satisfied: debugpy>=1.6.5 in /Users/novanovriansyah/Library/Python/3.11/lib/python/site-packages (from ipykernel->jupyter) (1.8.1)\n",
      "Requirement already satisfied: jupyter-client>=6.1.12 in /Users/novanovriansyah/Library/Python/3.11/lib/python/site-packages (from ipykernel->jupyter) (8.6.0)\n",
      "Requirement already satisfied: jupyter-core!=5.0.*,>=4.12 in /Users/novanovriansyah/Library/Python/3.11/lib/python/site-packages (from ipykernel->jupyter) (5.7.1)\n",
      "Requirement already satisfied: nest-asyncio in /Users/novanovriansyah/Library/Python/3.11/lib/python/site-packages (from ipykernel->jupyter) (1.6.0)\n",
      "Requirement already satisfied: packaging in /Users/novanovriansyah/Library/Python/3.11/lib/python/site-packages (from ipykernel->jupyter) (23.2)\n",
      "Requirement already satisfied: psutil in /Users/novanovriansyah/Library/Python/3.11/lib/python/site-packages (from ipykernel->jupyter) (5.9.8)\n",
      "Requirement already satisfied: pyzmq>=24 in /Users/novanovriansyah/Library/Python/3.11/lib/python/site-packages (from ipykernel->jupyter) (25.1.2)\n",
      "Requirement already satisfied: tornado>=6.1 in /Users/novanovriansyah/Library/Python/3.11/lib/python/site-packages (from ipykernel->jupyter) (6.4)\n",
      "Requirement already satisfied: beautifulsoup4 in /Library/Frameworks/Python.framework/Versions/3.11/lib/python3.11/site-packages (from nbconvert->jupyter) (4.12.3)\n",
      "Requirement already satisfied: bleach!=5.0.0 in /Library/Frameworks/Python.framework/Versions/3.11/lib/python3.11/site-packages (from nbconvert->jupyter) (6.1.0)\n",
      "Requirement already satisfied: defusedxml in /Library/Frameworks/Python.framework/Versions/3.11/lib/python3.11/site-packages (from nbconvert->jupyter) (0.7.1)\n",
      "Requirement already satisfied: jinja2>=3.0 in /Library/Frameworks/Python.framework/Versions/3.11/lib/python3.11/site-packages (from nbconvert->jupyter) (3.1.3)\n",
      "Requirement already satisfied: jupyterlab-pygments in /Library/Frameworks/Python.framework/Versions/3.11/lib/python3.11/site-packages (from nbconvert->jupyter) (0.3.0)\n",
      "Requirement already satisfied: markupsafe>=2.0 in /Library/Frameworks/Python.framework/Versions/3.11/lib/python3.11/site-packages (from nbconvert->jupyter) (2.1.5)\n",
      "Requirement already satisfied: mistune<4,>=2.0.3 in /Library/Frameworks/Python.framework/Versions/3.11/lib/python3.11/site-packages (from nbconvert->jupyter) (3.0.2)\n",
      "Requirement already satisfied: nbclient>=0.5.0 in /Library/Frameworks/Python.framework/Versions/3.11/lib/python3.11/site-packages (from nbconvert->jupyter) (0.9.0)\n",
      "Requirement already satisfied: nbformat>=5.7 in /Library/Frameworks/Python.framework/Versions/3.11/lib/python3.11/site-packages (from nbconvert->jupyter) (5.9.2)\n",
      "Requirement already satisfied: pandocfilters>=1.4.1 in /Library/Frameworks/Python.framework/Versions/3.11/lib/python3.11/site-packages (from nbconvert->jupyter) (1.5.1)\n",
      "Requirement already satisfied: tinycss2 in /Library/Frameworks/Python.framework/Versions/3.11/lib/python3.11/site-packages (from nbconvert->jupyter) (1.2.1)\n",
      "Requirement already satisfied: jupyter-server<3,>=2.4.0 in /Library/Frameworks/Python.framework/Versions/3.11/lib/python3.11/site-packages (from notebook->jupyter) (2.12.5)\n",
      "Requirement already satisfied: jupyterlab-server<3,>=2.22.1 in /Library/Frameworks/Python.framework/Versions/3.11/lib/python3.11/site-packages (from notebook->jupyter) (2.25.3)\n",
      "Requirement already satisfied: jupyterlab<4.2,>=4.1.1 in /Library/Frameworks/Python.framework/Versions/3.11/lib/python3.11/site-packages (from notebook->jupyter) (4.1.2)\n",
      "Requirement already satisfied: notebook-shim<0.3,>=0.2 in /Library/Frameworks/Python.framework/Versions/3.11/lib/python3.11/site-packages (from notebook->jupyter) (0.2.4)\n",
      "Requirement already satisfied: qtpy>=2.4.0 in /Library/Frameworks/Python.framework/Versions/3.11/lib/python3.11/site-packages (from qtconsole->jupyter) (2.4.1)\n",
      "Requirement already satisfied: six>=1.9.0 in /Users/novanovriansyah/Library/Python/3.11/lib/python/site-packages (from bleach!=5.0.0->nbconvert->jupyter) (1.16.0)\n",
      "Requirement already satisfied: webencodings in /Library/Frameworks/Python.framework/Versions/3.11/lib/python3.11/site-packages (from bleach!=5.0.0->nbconvert->jupyter) (0.5.1)\n",
      "Requirement already satisfied: parso<0.9.0,>=0.8.3 in /Users/novanovriansyah/Library/Python/3.11/lib/python/site-packages (from jedi>=0.16->ipython>=6.1.0->ipywidgets) (0.8.3)\n",
      "Requirement already satisfied: python-dateutil>=2.8.2 in /Users/novanovriansyah/Library/Python/3.11/lib/python/site-packages (from jupyter-client>=6.1.12->ipykernel->jupyter) (2.9.0.post0)\n",
      "Requirement already satisfied: platformdirs>=2.5 in /Users/novanovriansyah/Library/Python/3.11/lib/python/site-packages (from jupyter-core!=5.0.*,>=4.12->ipykernel->jupyter) (4.2.0)\n",
      "Requirement already satisfied: anyio>=3.1.0 in /Library/Frameworks/Python.framework/Versions/3.11/lib/python3.11/site-packages (from jupyter-server<3,>=2.4.0->notebook->jupyter) (4.3.0)\n",
      "Requirement already satisfied: argon2-cffi in /Library/Frameworks/Python.framework/Versions/3.11/lib/python3.11/site-packages (from jupyter-server<3,>=2.4.0->notebook->jupyter) (23.1.0)\n",
      "Requirement already satisfied: jupyter-events>=0.9.0 in /Library/Frameworks/Python.framework/Versions/3.11/lib/python3.11/site-packages (from jupyter-server<3,>=2.4.0->notebook->jupyter) (0.9.0)\n",
      "Requirement already satisfied: jupyter-server-terminals in /Library/Frameworks/Python.framework/Versions/3.11/lib/python3.11/site-packages (from jupyter-server<3,>=2.4.0->notebook->jupyter) (0.5.2)\n",
      "Requirement already satisfied: overrides in /Library/Frameworks/Python.framework/Versions/3.11/lib/python3.11/site-packages (from jupyter-server<3,>=2.4.0->notebook->jupyter) (7.7.0)\n",
      "Requirement already satisfied: prometheus-client in /Library/Frameworks/Python.framework/Versions/3.11/lib/python3.11/site-packages (from jupyter-server<3,>=2.4.0->notebook->jupyter) (0.20.0)\n",
      "Requirement already satisfied: send2trash>=1.8.2 in /Library/Frameworks/Python.framework/Versions/3.11/lib/python3.11/site-packages (from jupyter-server<3,>=2.4.0->notebook->jupyter) (1.8.2)\n",
      "Requirement already satisfied: terminado>=0.8.3 in /Library/Frameworks/Python.framework/Versions/3.11/lib/python3.11/site-packages (from jupyter-server<3,>=2.4.0->notebook->jupyter) (0.18.0)\n",
      "Requirement already satisfied: websocket-client in /Library/Frameworks/Python.framework/Versions/3.11/lib/python3.11/site-packages (from jupyter-server<3,>=2.4.0->notebook->jupyter) (1.7.0)\n",
      "Requirement already satisfied: async-lru>=1.0.0 in /Library/Frameworks/Python.framework/Versions/3.11/lib/python3.11/site-packages (from jupyterlab<4.2,>=4.1.1->notebook->jupyter) (2.0.4)\n",
      "Requirement already satisfied: httpx>=0.25.0 in /Library/Frameworks/Python.framework/Versions/3.11/lib/python3.11/site-packages (from jupyterlab<4.2,>=4.1.1->notebook->jupyter) (0.27.0)\n",
      "Requirement already satisfied: jupyter-lsp>=2.0.0 in /Library/Frameworks/Python.framework/Versions/3.11/lib/python3.11/site-packages (from jupyterlab<4.2,>=4.1.1->notebook->jupyter) (2.2.3)\n",
      "Requirement already satisfied: babel>=2.10 in /Library/Frameworks/Python.framework/Versions/3.11/lib/python3.11/site-packages (from jupyterlab-server<3,>=2.22.1->notebook->jupyter) (2.14.0)\n",
      "Requirement already satisfied: json5>=0.9.0 in /Library/Frameworks/Python.framework/Versions/3.11/lib/python3.11/site-packages (from jupyterlab-server<3,>=2.22.1->notebook->jupyter) (0.9.19)\n",
      "Requirement already satisfied: jsonschema>=4.18.0 in /Library/Frameworks/Python.framework/Versions/3.11/lib/python3.11/site-packages (from jupyterlab-server<3,>=2.22.1->notebook->jupyter) (4.21.1)\n",
      "Requirement already satisfied: requests>=2.31 in /Library/Frameworks/Python.framework/Versions/3.11/lib/python3.11/site-packages (from jupyterlab-server<3,>=2.22.1->notebook->jupyter) (2.31.0)\n",
      "Requirement already satisfied: fastjsonschema in /Library/Frameworks/Python.framework/Versions/3.11/lib/python3.11/site-packages (from nbformat>=5.7->nbconvert->jupyter) (2.19.1)\n",
      "Requirement already satisfied: ptyprocess>=0.5 in /Users/novanovriansyah/Library/Python/3.11/lib/python/site-packages (from pexpect>4.3->ipython>=6.1.0->ipywidgets) (0.7.0)\n",
      "Requirement already satisfied: wcwidth in /Users/novanovriansyah/Library/Python/3.11/lib/python/site-packages (from prompt-toolkit<3.1.0,>=3.0.41->ipython>=6.1.0->ipywidgets) (0.2.13)\n",
      "Requirement already satisfied: soupsieve>1.2 in /Library/Frameworks/Python.framework/Versions/3.11/lib/python3.11/site-packages (from beautifulsoup4->nbconvert->jupyter) (2.5)\n",
      "Requirement already satisfied: executing>=1.2.0 in /Users/novanovriansyah/Library/Python/3.11/lib/python/site-packages (from stack-data->ipython>=6.1.0->ipywidgets) (2.0.1)\n",
      "Requirement already satisfied: asttokens>=2.1.0 in /Users/novanovriansyah/Library/Python/3.11/lib/python/site-packages (from stack-data->ipython>=6.1.0->ipywidgets) (2.4.1)\n",
      "Requirement already satisfied: pure-eval in /Users/novanovriansyah/Library/Python/3.11/lib/python/site-packages (from stack-data->ipython>=6.1.0->ipywidgets) (0.2.2)\n",
      "Requirement already satisfied: idna>=2.8 in /Library/Frameworks/Python.framework/Versions/3.11/lib/python3.11/site-packages (from anyio>=3.1.0->jupyter-server<3,>=2.4.0->notebook->jupyter) (3.6)\n",
      "Requirement already satisfied: sniffio>=1.1 in /Library/Frameworks/Python.framework/Versions/3.11/lib/python3.11/site-packages (from anyio>=3.1.0->jupyter-server<3,>=2.4.0->notebook->jupyter) (1.3.1)\n",
      "Requirement already satisfied: certifi in /Library/Frameworks/Python.framework/Versions/3.11/lib/python3.11/site-packages (from httpx>=0.25.0->jupyterlab<4.2,>=4.1.1->notebook->jupyter) (2024.2.2)\n",
      "Requirement already satisfied: httpcore==1.* in /Library/Frameworks/Python.framework/Versions/3.11/lib/python3.11/site-packages (from httpx>=0.25.0->jupyterlab<4.2,>=4.1.1->notebook->jupyter) (1.0.4)\n",
      "Requirement already satisfied: h11<0.15,>=0.13 in /Library/Frameworks/Python.framework/Versions/3.11/lib/python3.11/site-packages (from httpcore==1.*->httpx>=0.25.0->jupyterlab<4.2,>=4.1.1->notebook->jupyter) (0.14.0)\n",
      "Requirement already satisfied: attrs>=22.2.0 in /Library/Frameworks/Python.framework/Versions/3.11/lib/python3.11/site-packages (from jsonschema>=4.18.0->jupyterlab-server<3,>=2.22.1->notebook->jupyter) (23.2.0)\n",
      "Requirement already satisfied: jsonschema-specifications>=2023.03.6 in /Library/Frameworks/Python.framework/Versions/3.11/lib/python3.11/site-packages (from jsonschema>=4.18.0->jupyterlab-server<3,>=2.22.1->notebook->jupyter) (2023.12.1)\n",
      "Requirement already satisfied: referencing>=0.28.4 in /Library/Frameworks/Python.framework/Versions/3.11/lib/python3.11/site-packages (from jsonschema>=4.18.0->jupyterlab-server<3,>=2.22.1->notebook->jupyter) (0.33.0)\n",
      "Requirement already satisfied: rpds-py>=0.7.1 in /Library/Frameworks/Python.framework/Versions/3.11/lib/python3.11/site-packages (from jsonschema>=4.18.0->jupyterlab-server<3,>=2.22.1->notebook->jupyter) (0.18.0)\n",
      "Requirement already satisfied: python-json-logger>=2.0.4 in /Library/Frameworks/Python.framework/Versions/3.11/lib/python3.11/site-packages (from jupyter-events>=0.9.0->jupyter-server<3,>=2.4.0->notebook->jupyter) (2.0.7)\n",
      "Requirement already satisfied: pyyaml>=5.3 in /Library/Frameworks/Python.framework/Versions/3.11/lib/python3.11/site-packages (from jupyter-events>=0.9.0->jupyter-server<3,>=2.4.0->notebook->jupyter) (6.0.1)\n",
      "Requirement already satisfied: rfc3339-validator in /Library/Frameworks/Python.framework/Versions/3.11/lib/python3.11/site-packages (from jupyter-events>=0.9.0->jupyter-server<3,>=2.4.0->notebook->jupyter) (0.1.4)\n",
      "Requirement already satisfied: rfc3986-validator>=0.1.1 in /Library/Frameworks/Python.framework/Versions/3.11/lib/python3.11/site-packages (from jupyter-events>=0.9.0->jupyter-server<3,>=2.4.0->notebook->jupyter) (0.1.1)\n",
      "Requirement already satisfied: charset-normalizer<4,>=2 in /Library/Frameworks/Python.framework/Versions/3.11/lib/python3.11/site-packages (from requests>=2.31->jupyterlab-server<3,>=2.22.1->notebook->jupyter) (3.3.2)\n",
      "Requirement already satisfied: urllib3<3,>=1.21.1 in /Library/Frameworks/Python.framework/Versions/3.11/lib/python3.11/site-packages (from requests>=2.31->jupyterlab-server<3,>=2.22.1->notebook->jupyter) (2.2.1)\n",
      "Requirement already satisfied: argon2-cffi-bindings in /Library/Frameworks/Python.framework/Versions/3.11/lib/python3.11/site-packages (from argon2-cffi->jupyter-server<3,>=2.4.0->notebook->jupyter) (21.2.0)\n",
      "Requirement already satisfied: fqdn in /Library/Frameworks/Python.framework/Versions/3.11/lib/python3.11/site-packages (from jsonschema[format-nongpl]>=4.18.0->jupyter-events>=0.9.0->jupyter-server<3,>=2.4.0->notebook->jupyter) (1.5.1)\n",
      "Requirement already satisfied: isoduration in /Library/Frameworks/Python.framework/Versions/3.11/lib/python3.11/site-packages (from jsonschema[format-nongpl]>=4.18.0->jupyter-events>=0.9.0->jupyter-server<3,>=2.4.0->notebook->jupyter) (20.11.0)\n",
      "Requirement already satisfied: jsonpointer>1.13 in /Library/Frameworks/Python.framework/Versions/3.11/lib/python3.11/site-packages (from jsonschema[format-nongpl]>=4.18.0->jupyter-events>=0.9.0->jupyter-server<3,>=2.4.0->notebook->jupyter) (2.4)\n",
      "Requirement already satisfied: uri-template in /Library/Frameworks/Python.framework/Versions/3.11/lib/python3.11/site-packages (from jsonschema[format-nongpl]>=4.18.0->jupyter-events>=0.9.0->jupyter-server<3,>=2.4.0->notebook->jupyter) (1.3.0)\n",
      "Requirement already satisfied: webcolors>=1.11 in /Library/Frameworks/Python.framework/Versions/3.11/lib/python3.11/site-packages (from jsonschema[format-nongpl]>=4.18.0->jupyter-events>=0.9.0->jupyter-server<3,>=2.4.0->notebook->jupyter) (1.13)\n",
      "Requirement already satisfied: cffi>=1.0.1 in /Library/Frameworks/Python.framework/Versions/3.11/lib/python3.11/site-packages (from argon2-cffi-bindings->argon2-cffi->jupyter-server<3,>=2.4.0->notebook->jupyter) (1.16.0)\n",
      "Requirement already satisfied: pycparser in /Library/Frameworks/Python.framework/Versions/3.11/lib/python3.11/site-packages (from cffi>=1.0.1->argon2-cffi-bindings->argon2-cffi->jupyter-server<3,>=2.4.0->notebook->jupyter) (2.21)\n",
      "Requirement already satisfied: arrow>=0.15.0 in /Library/Frameworks/Python.framework/Versions/3.11/lib/python3.11/site-packages (from isoduration->jsonschema[format-nongpl]>=4.18.0->jupyter-events>=0.9.0->jupyter-server<3,>=2.4.0->notebook->jupyter) (1.3.0)\n",
      "Requirement already satisfied: types-python-dateutil>=2.8.10 in /Library/Frameworks/Python.framework/Versions/3.11/lib/python3.11/site-packages (from arrow>=0.15.0->isoduration->jsonschema[format-nongpl]>=4.18.0->jupyter-events>=0.9.0->jupyter-server<3,>=2.4.0->notebook->jupyter) (2.8.19.20240106)\n",
      "Note: you may need to restart the kernel to use updated packages.\n"
     ]
    }
   ],
   "source": [
    "pip install --upgrade jupyter ipywidgets\n"
   ]
  },
  {
   "cell_type": "code",
   "execution_count": null,
   "id": "b8bed08b-85da-4d74-918b-7c5c57673ea7",
   "metadata": {},
   "outputs": [],
   "source": [
    "import fitz\n",
    "from transformers import pipeline\n",
    "\n",
    "# Function to extract text from PDF using PyMuPDF (fitz)\n",
    "def extract_text_from_pdf(pdf_file):\n",
    "    text = \"\"\n",
    "    with fitz.open(pdf_file) as pdf:\n",
    "        for page in pdf:\n",
    "            text += page.get_text()\n",
    "    return text\n",
    "\n",
    "# Function to query PDF content with GPT-J model using Hugging Face pipeline\n",
    "def query_pdf_with_pipeline(pdf_file, prompt):\n",
    "    # Load the pipeline for text generation with GPT-J\n",
    "    pdf_pipeline = pipeline(\"text2text-generation\", model=\"EleutherAI/gpt-j-6B\")\n",
    "\n",
    "    # Extract text from the PDF file\n",
    "    text = extract_text_from_pdf(pdf_file)\n",
    "\n",
    "    # Concatenate the prompt with the extracted text\n",
    "    input_text = f\"{prompt} {text}\"\n",
    "\n",
    "    # Generate text with the GPT-J model\n",
    "    result = pdf_pipeline(input_text, max_length=200)  # Adjust max_length as needed\n",
    "\n",
    "    return result[0][\"generated_text\"]\n",
    "\n",
    "# File path of the PDF document\n",
    "pdf_file = 'mydoc.pdf'\n",
    "\n",
    "# Query prompt to search in the PDF document\n",
    "prompt = \"What is mentioned about the candidate's education in the document?\"\n",
    "\n",
    "# Call the function to query the PDF with the GPT-J model using Hugging Face pipeline\n",
    "result = query_pdf_with_pipeline(pdf_file, prompt)\n",
    "\n",
    "# Print the formatted result\n",
    "print(\"Query:\", prompt)\n",
    "print(\"Answer:\")\n",
    "print(result)\n"
   ]
  },
  {
   "cell_type": "code",
   "execution_count": null,
   "id": "1f39d7a5-e29d-4113-91e7-7beba0df0068",
   "metadata": {},
   "outputs": [],
   "source": []
  },
  {
   "cell_type": "code",
   "execution_count": null,
   "id": "b6d118da-a16b-4fec-842c-ab7436770ae3",
   "metadata": {},
   "outputs": [],
   "source": []
  },
  {
   "cell_type": "code",
   "execution_count": null,
   "id": "a5714763-40e2-48dd-a05b-3da63450c62e",
   "metadata": {},
   "outputs": [],
   "source": []
  }
 ],
 "metadata": {
  "kernelspec": {
   "display_name": "Python 3 (ipykernel)",
   "language": "python",
   "name": "python3"
  },
  "language_info": {
   "codemirror_mode": {
    "name": "ipython",
    "version": 3
   },
   "file_extension": ".py",
   "mimetype": "text/x-python",
   "name": "python",
   "nbconvert_exporter": "python",
   "pygments_lexer": "ipython3",
   "version": "3.11.6"
  },
  "widgets": {
   "application/vnd.jupyter.widget-state+json": {
    "state": {
     "0198acd968b74aad97d180e5a8bcc207": {
      "model_module": "@jupyter-widgets/controls",
      "model_module_version": "2.0.0",
      "model_name": "ProgressStyleModel",
      "state": {
       "description_width": ""
      }
     },
     "076d65d60aef44b7b3d01b3da7301be9": {
      "model_module": "@jupyter-widgets/base",
      "model_module_version": "2.0.0",
      "model_name": "LayoutModel",
      "state": {}
     },
     "09ba9508e5db4dedb5ce0484cde51fc0": {
      "model_module": "@jupyter-widgets/controls",
      "model_module_version": "2.0.0",
      "model_name": "HTMLModel",
      "state": {
       "layout": "IPY_MODEL_be21329ee4d046e78be4a3ac35ba7705",
       "style": "IPY_MODEL_b83fd7f0bce34f448773a8f58342f416",
       "value": " 20.1G/24.2G [23:48&lt;29:58, 2.26MB/s]"
      }
     },
     "0a627e7068204833a6e7b4a8f807900e": {
      "model_module": "@jupyter-widgets/base",
      "model_module_version": "2.0.0",
      "model_name": "LayoutModel",
      "state": {}
     },
     "0ae815da339a495087763dd1234a22a8": {
      "model_module": "@jupyter-widgets/base",
      "model_module_version": "2.0.0",
      "model_name": "LayoutModel",
      "state": {}
     },
     "150c3e5f63e245b3bcba5c1c66e2840d": {
      "model_module": "@jupyter-widgets/controls",
      "model_module_version": "2.0.0",
      "model_name": "ProgressStyleModel",
      "state": {
       "description_width": ""
      }
     },
     "169597d2c93c4c7aa7fc6f7eb07179bc": {
      "model_module": "@jupyter-widgets/controls",
      "model_module_version": "2.0.0",
      "model_name": "HTMLModel",
      "state": {
       "layout": "IPY_MODEL_33e28249326c49baba1ada472caf9e17",
       "style": "IPY_MODEL_208d2cd711e04b858603e052d17f1852",
       "value": " 21.8G/24.2G [11:24&lt;06:05, 6.64MB/s]"
      }
     },
     "1762f3891dc541ff8a9daac484376520": {
      "model_module": "@jupyter-widgets/controls",
      "model_module_version": "2.0.0",
      "model_name": "ProgressStyleModel",
      "state": {
       "description_width": ""
      }
     },
     "1ae3d2242eb54b74ab412d0f50417a30": {
      "model_module": "@jupyter-widgets/base",
      "model_module_version": "2.0.0",
      "model_name": "LayoutModel",
      "state": {}
     },
     "1bdc5cf9cf474643968060488b921204": {
      "model_module": "@jupyter-widgets/controls",
      "model_module_version": "2.0.0",
      "model_name": "HBoxModel",
      "state": {
       "children": [
        "IPY_MODEL_b4c62d402923417889b041e1bf3e02fc",
        "IPY_MODEL_4a72b38fe6284d61af063c17bbe0d38f",
        "IPY_MODEL_169597d2c93c4c7aa7fc6f7eb07179bc"
       ],
       "layout": "IPY_MODEL_076d65d60aef44b7b3d01b3da7301be9"
      }
     },
     "1d30c97bc7bb47c18b3e7cc155195638": {
      "model_module": "@jupyter-widgets/base",
      "model_module_version": "2.0.0",
      "model_name": "LayoutModel",
      "state": {}
     },
     "1ec44aebf23f48808ba1536eb1a80b3f": {
      "model_module": "@jupyter-widgets/controls",
      "model_module_version": "2.0.0",
      "model_name": "HTMLStyleModel",
      "state": {
       "description_width": "",
       "font_size": null,
       "text_color": null
      }
     },
     "208d2cd711e04b858603e052d17f1852": {
      "model_module": "@jupyter-widgets/controls",
      "model_module_version": "2.0.0",
      "model_name": "HTMLStyleModel",
      "state": {
       "description_width": "",
       "font_size": null,
       "text_color": null
      }
     },
     "33e28249326c49baba1ada472caf9e17": {
      "model_module": "@jupyter-widgets/base",
      "model_module_version": "2.0.0",
      "model_name": "LayoutModel",
      "state": {}
     },
     "38806094083b4238bb3def42c4d25046": {
      "model_module": "@jupyter-widgets/controls",
      "model_module_version": "2.0.0",
      "model_name": "HTMLStyleModel",
      "state": {
       "description_width": "",
       "font_size": null,
       "text_color": null
      }
     },
     "3d3ab32ad9004db1a6e759a429c4454d": {
      "model_module": "@jupyter-widgets/controls",
      "model_module_version": "2.0.0",
      "model_name": "ProgressStyleModel",
      "state": {
       "description_width": ""
      }
     },
     "3e14944c3e80423ba8b3872dd3c5807b": {
      "model_module": "@jupyter-widgets/controls",
      "model_module_version": "2.0.0",
      "model_name": "HBoxModel",
      "state": {
       "children": [
        "IPY_MODEL_ca21ef5c90ad440b9003a9b24bd84c99",
        "IPY_MODEL_a1fdc5a1738e427fbaf39e517dfdad8c",
        "IPY_MODEL_434ee4c3d87b482d8b46402bdb6f8030"
       ],
       "layout": "IPY_MODEL_9250f342fbed4a3b9a71802d52176637"
      }
     },
     "434ee4c3d87b482d8b46402bdb6f8030": {
      "model_module": "@jupyter-widgets/controls",
      "model_module_version": "2.0.0",
      "model_name": "HTMLModel",
      "state": {
       "layout": "IPY_MODEL_43b881d395684a909ec2a8732cbd224a",
       "style": "IPY_MODEL_c548785fee5b46e2a89572fc9474c130",
       "value": " 24.2G/24.2G [02:03&lt;00:00, 8.12MB/s]"
      }
     },
     "43b881d395684a909ec2a8732cbd224a": {
      "model_module": "@jupyter-widgets/base",
      "model_module_version": "2.0.0",
      "model_name": "LayoutModel",
      "state": {}
     },
     "4a72b38fe6284d61af063c17bbe0d38f": {
      "model_module": "@jupyter-widgets/controls",
      "model_module_version": "2.0.0",
      "model_name": "FloatProgressModel",
      "state": {
       "bar_style": "danger",
       "layout": "IPY_MODEL_78e3b456cddb4738b6247c1dfe0aa084",
       "max": 24207819307,
       "style": "IPY_MODEL_150c3e5f63e245b3bcba5c1c66e2840d",
       "value": 21778923520
      }
     },
     "4eec4b168b21413aa21bd26cb3af7892": {
      "model_module": "@jupyter-widgets/controls",
      "model_module_version": "2.0.0",
      "model_name": "HBoxModel",
      "state": {
       "children": [
        "IPY_MODEL_ac18c4c4b66d4d46b74d5cf4055592c6",
        "IPY_MODEL_f83d443a649c4c689836fd02564bac95",
        "IPY_MODEL_75a7249067194a628e8234efc80fe077"
       ],
       "layout": "IPY_MODEL_0ae815da339a495087763dd1234a22a8"
      }
     },
     "535aa565b2b04b2791d61750b216a6e6": {
      "model_module": "@jupyter-widgets/base",
      "model_module_version": "2.0.0",
      "model_name": "LayoutModel",
      "state": {}
     },
     "5378a12f280b4795b3fc9325b62f33f3": {
      "model_module": "@jupyter-widgets/controls",
      "model_module_version": "2.0.0",
      "model_name": "FloatProgressModel",
      "state": {
       "bar_style": "danger",
       "layout": "IPY_MODEL_92253fe4fcb946eb9636cbdbcb57290f",
       "max": 24207819307,
       "style": "IPY_MODEL_1762f3891dc541ff8a9daac484376520",
       "value": 16148070400
      }
     },
     "61637069a7b34d668e7732bbe42a0c87": {
      "model_module": "@jupyter-widgets/controls",
      "model_module_version": "2.0.0",
      "model_name": "HTMLStyleModel",
      "state": {
       "description_width": "",
       "font_size": null,
       "text_color": null
      }
     },
     "620b22a87c784f4f85d103d90ca85619": {
      "model_module": "@jupyter-widgets/controls",
      "model_module_version": "2.0.0",
      "model_name": "HTMLStyleModel",
      "state": {
       "description_width": "",
       "font_size": null,
       "text_color": null
      }
     },
     "70d974d8c413496f85da87582fe9ca3b": {
      "model_module": "@jupyter-widgets/base",
      "model_module_version": "2.0.0",
      "model_name": "LayoutModel",
      "state": {}
     },
     "75a7249067194a628e8234efc80fe077": {
      "model_module": "@jupyter-widgets/controls",
      "model_module_version": "2.0.0",
      "model_name": "HTMLModel",
      "state": {
       "layout": "IPY_MODEL_cb05f2e2d1b34ebd8e3156b7d6cd251a",
       "style": "IPY_MODEL_620b22a87c784f4f85d103d90ca85619",
       "value": " 23.2G/24.2G [06:34&lt;05:43, 3.07MB/s]"
      }
     },
     "78e3b456cddb4738b6247c1dfe0aa084": {
      "model_module": "@jupyter-widgets/base",
      "model_module_version": "2.0.0",
      "model_name": "LayoutModel",
      "state": {}
     },
     "7c5faa8a4c5d46d398dfcb62f87dc47e": {
      "model_module": "@jupyter-widgets/controls",
      "model_module_version": "2.0.0",
      "model_name": "HTMLStyleModel",
      "state": {
       "description_width": "",
       "font_size": null,
       "text_color": null
      }
     },
     "87fc25654fa640eea397809e8e7a6bc9": {
      "model_module": "@jupyter-widgets/base",
      "model_module_version": "2.0.0",
      "model_name": "LayoutModel",
      "state": {}
     },
     "8a323df6ce3541ddb8959e9d59176532": {
      "model_module": "@jupyter-widgets/controls",
      "model_module_version": "2.0.0",
      "model_name": "ProgressStyleModel",
      "state": {
       "description_width": ""
      }
     },
     "8bf4fb141d52429d8a9e074e3ebf2f69": {
      "model_module": "@jupyter-widgets/base",
      "model_module_version": "2.0.0",
      "model_name": "LayoutModel",
      "state": {}
     },
     "92253fe4fcb946eb9636cbdbcb57290f": {
      "model_module": "@jupyter-widgets/base",
      "model_module_version": "2.0.0",
      "model_name": "LayoutModel",
      "state": {}
     },
     "9250f342fbed4a3b9a71802d52176637": {
      "model_module": "@jupyter-widgets/base",
      "model_module_version": "2.0.0",
      "model_name": "LayoutModel",
      "state": {}
     },
     "9ca9db57cc2e4ee38ea8f3bf0eb7752a": {
      "model_module": "@jupyter-widgets/base",
      "model_module_version": "2.0.0",
      "model_name": "LayoutModel",
      "state": {}
     },
     "a1fdc5a1738e427fbaf39e517dfdad8c": {
      "model_module": "@jupyter-widgets/controls",
      "model_module_version": "2.0.0",
      "model_name": "FloatProgressModel",
      "state": {
       "bar_style": "success",
       "layout": "IPY_MODEL_535aa565b2b04b2791d61750b216a6e6",
       "max": 24207819307,
       "style": "IPY_MODEL_3d3ab32ad9004db1a6e759a429c4454d",
       "value": 24207819307
      }
     },
     "ac18c4c4b66d4d46b74d5cf4055592c6": {
      "model_module": "@jupyter-widgets/controls",
      "model_module_version": "2.0.0",
      "model_name": "HTMLModel",
      "state": {
       "layout": "IPY_MODEL_8bf4fb141d52429d8a9e074e3ebf2f69",
       "style": "IPY_MODEL_61637069a7b34d668e7732bbe42a0c87",
       "value": "pytorch_model.bin:  96%"
      }
     },
     "ac5fe9369090405f9a65a805d7235c76": {
      "model_module": "@jupyter-widgets/controls",
      "model_module_version": "2.0.0",
      "model_name": "FloatProgressModel",
      "state": {
       "bar_style": "danger",
       "layout": "IPY_MODEL_b9a030c0fc744214b15ef51dc3fd1733",
       "max": 24207819307,
       "style": "IPY_MODEL_8a323df6ce3541ddb8959e9d59176532",
       "value": 20143144960
      }
     },
     "b4c62d402923417889b041e1bf3e02fc": {
      "model_module": "@jupyter-widgets/controls",
      "model_module_version": "2.0.0",
      "model_name": "HTMLModel",
      "state": {
       "layout": "IPY_MODEL_b676e6ef0dee4d3f92e98e193d05e496",
       "style": "IPY_MODEL_7c5faa8a4c5d46d398dfcb62f87dc47e",
       "value": "pytorch_model.bin:  90%"
      }
     },
     "b676e6ef0dee4d3f92e98e193d05e496": {
      "model_module": "@jupyter-widgets/base",
      "model_module_version": "2.0.0",
      "model_name": "LayoutModel",
      "state": {}
     },
     "b6b3ff82f1b04c2ca6ce8ce78a766435": {
      "model_module": "@jupyter-widgets/controls",
      "model_module_version": "2.0.0",
      "model_name": "HTMLStyleModel",
      "state": {
       "description_width": "",
       "font_size": null,
       "text_color": null
      }
     },
     "b83fd7f0bce34f448773a8f58342f416": {
      "model_module": "@jupyter-widgets/controls",
      "model_module_version": "2.0.0",
      "model_name": "HTMLStyleModel",
      "state": {
       "description_width": "",
       "font_size": null,
       "text_color": null
      }
     },
     "b9a030c0fc744214b15ef51dc3fd1733": {
      "model_module": "@jupyter-widgets/base",
      "model_module_version": "2.0.0",
      "model_name": "LayoutModel",
      "state": {}
     },
     "be21329ee4d046e78be4a3ac35ba7705": {
      "model_module": "@jupyter-widgets/base",
      "model_module_version": "2.0.0",
      "model_name": "LayoutModel",
      "state": {}
     },
     "befbed7654944307ae490469f9ab493a": {
      "model_module": "@jupyter-widgets/controls",
      "model_module_version": "2.0.0",
      "model_name": "HTMLModel",
      "state": {
       "layout": "IPY_MODEL_70d974d8c413496f85da87582fe9ca3b",
       "style": "IPY_MODEL_38806094083b4238bb3def42c4d25046",
       "value": " 16.1G/24.2G [57:42&lt;20:18, 6.61MB/s]"
      }
     },
     "c21c4ce678c041ac9efe8fdb15a9f089": {
      "model_module": "@jupyter-widgets/base",
      "model_module_version": "2.0.0",
      "model_name": "LayoutModel",
      "state": {}
     },
     "c548785fee5b46e2a89572fc9474c130": {
      "model_module": "@jupyter-widgets/controls",
      "model_module_version": "2.0.0",
      "model_name": "HTMLStyleModel",
      "state": {
       "description_width": "",
       "font_size": null,
       "text_color": null
      }
     },
     "ca21ef5c90ad440b9003a9b24bd84c99": {
      "model_module": "@jupyter-widgets/controls",
      "model_module_version": "2.0.0",
      "model_name": "HTMLModel",
      "state": {
       "layout": "IPY_MODEL_87fc25654fa640eea397809e8e7a6bc9",
       "style": "IPY_MODEL_b6b3ff82f1b04c2ca6ce8ce78a766435",
       "value": "pytorch_model.bin: 100%"
      }
     },
     "cb05f2e2d1b34ebd8e3156b7d6cd251a": {
      "model_module": "@jupyter-widgets/base",
      "model_module_version": "2.0.0",
      "model_name": "LayoutModel",
      "state": {}
     },
     "cb8cc51446d44c88ad7e7429bf6b3262": {
      "model_module": "@jupyter-widgets/controls",
      "model_module_version": "2.0.0",
      "model_name": "HTMLModel",
      "state": {
       "layout": "IPY_MODEL_c21c4ce678c041ac9efe8fdb15a9f089",
       "style": "IPY_MODEL_e1176a8b75a24dd08868e1e9140666f3",
       "value": "pytorch_model.bin:  83%"
      }
     },
     "d85579bd83914f2ca80fccc9b3971582": {
      "model_module": "@jupyter-widgets/controls",
      "model_module_version": "2.0.0",
      "model_name": "HBoxModel",
      "state": {
       "children": [
        "IPY_MODEL_cb8cc51446d44c88ad7e7429bf6b3262",
        "IPY_MODEL_ac5fe9369090405f9a65a805d7235c76",
        "IPY_MODEL_09ba9508e5db4dedb5ce0484cde51fc0"
       ],
       "layout": "IPY_MODEL_1d30c97bc7bb47c18b3e7cc155195638"
      }
     },
     "e1176a8b75a24dd08868e1e9140666f3": {
      "model_module": "@jupyter-widgets/controls",
      "model_module_version": "2.0.0",
      "model_name": "HTMLStyleModel",
      "state": {
       "description_width": "",
       "font_size": null,
       "text_color": null
      }
     },
     "f025c43f457d4218a66e0d1da4debcca": {
      "model_module": "@jupyter-widgets/controls",
      "model_module_version": "2.0.0",
      "model_name": "HTMLModel",
      "state": {
       "layout": "IPY_MODEL_9ca9db57cc2e4ee38ea8f3bf0eb7752a",
       "style": "IPY_MODEL_1ec44aebf23f48808ba1536eb1a80b3f",
       "value": "pytorch_model.bin:  67%"
      }
     },
     "f0c63f0216714befb62d5ff4c90a0960": {
      "model_module": "@jupyter-widgets/controls",
      "model_module_version": "2.0.0",
      "model_name": "HBoxModel",
      "state": {
       "children": [
        "IPY_MODEL_f025c43f457d4218a66e0d1da4debcca",
        "IPY_MODEL_5378a12f280b4795b3fc9325b62f33f3",
        "IPY_MODEL_befbed7654944307ae490469f9ab493a"
       ],
       "layout": "IPY_MODEL_0a627e7068204833a6e7b4a8f807900e"
      }
     },
     "f83d443a649c4c689836fd02564bac95": {
      "model_module": "@jupyter-widgets/controls",
      "model_module_version": "2.0.0",
      "model_name": "FloatProgressModel",
      "state": {
       "bar_style": "danger",
       "layout": "IPY_MODEL_1ae3d2242eb54b74ab412d0f50417a30",
       "max": 24207819307,
       "style": "IPY_MODEL_0198acd968b74aad97d180e5a8bcc207",
       "value": 23152558080
      }
     }
    },
    "version_major": 2,
    "version_minor": 0
   }
  }
 },
 "nbformat": 4,
 "nbformat_minor": 5
}
